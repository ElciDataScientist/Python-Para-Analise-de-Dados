{
 "cells": [
  {
   "cell_type": "markdown",
   "metadata": {
    "id": "Wkh1UgkUcvzW"
   },
   "source": [
    "## **if / else**\n",
    "## Estrutura de alteração de fluxo lógico do código, avalia um valor booleano ou uma comparação lógica."
   ]
  },
  {
   "cell_type": "markdown",
   "metadata": {
    "id": "AIh23LzZdScz"
   },
   "source": [
    "## if <booleano / comparação lógica> == True:\n",
    " <execute este código> else:\n",
    " <senão execute este código>"
   ]
  },
  {
   "cell_type": "code",
   "execution_count": 2,
   "metadata": {
    "colab": {
     "base_uri": "https://localhost:8080/"
    },
    "id": "c-hEQh4xdB5e",
    "outputId": "03dcf284-90f7-496c-aee6-0d16c8f9fd4c"
   },
   "outputs": [
    {
     "name": "stdout",
     "output_type": "stream",
     "text": [
      "Verdadeiro\n"
     ]
    }
   ],
   "source": [
    "if True: print(\"Verdadeiro\")\n",
    "else:\n",
    "  print(\"Falso\")"
   ]
  },
  {
   "cell_type": "code",
   "execution_count": null,
   "metadata": {},
   "outputs": [],
   "source": []
  },
  {
   "cell_type": "markdown",
   "metadata": {
    "id": "O8vDXwBddpHO"
   },
   "source": [
    "## Código de segurançade um cartãode crédito"
   ]
  },
  {
   "cell_type": "code",
   "execution_count": 7,
   "metadata": {
    "colab": {
     "base_uri": "https://localhost:8080/"
    },
    "id": "aX5jyFvcdqGt",
    "outputId": "778d5644-dd5a-427a-a82c-a5fc04740d45"
   },
   "outputs": [
    {
     "name": "stdout",
     "output_type": "stream",
     "text": [
      "False\n"
     ]
    }
   ],
   "source": [
    "codigo_de_seguranca= '291'\n",
    "codigo_de_seguranca_cadastro= '010'\n",
    "pode_efetuar_pagamento = codigo_de_seguranca== codigo_de_seguranca_cadastro\n",
    "print(pode_efetuar_pagamento)"
   ]
  },
  {
   "cell_type": "code",
   "execution_count": 9,
   "metadata": {
    "colab": {
     "base_uri": "https://localhost:8080/"
    },
    "id": "hL1ncOgbd7Vs",
    "outputId": "973108a7-e250-4a6e-a4a8-0951135d7dc7"
   },
   "outputs": [
    {
     "name": "stdout",
     "output_type": "stream",
     "text": [
      "Erro: Código de segurança inválido\n"
     ]
    }
   ],
   "source": [
    "if pode_efetuar_pagamento:\n",
    "  print(\"Pagamento efetuado\")\n",
    "else:\n",
    "  print(\"Erro: Código de segurança inválido\")"
   ]
  },
  {
   "cell_type": "code",
   "execution_count": 11,
   "metadata": {
    "colab": {
     "base_uri": "https://localhost:8080/"
    },
    "id": "NlthM8-7eNC2",
    "outputId": "e42dcb65-03b4-463b-8351-c79160461060"
   },
   "outputs": [
    {
     "name": "stdout",
     "output_type": "stream",
     "text": [
      "Erro: Código de segurança inválido\n"
     ]
    }
   ],
   "source": [
    "if codigo_de_seguranca == codigo_de_seguranca_cadastro:\n",
    "  print(\"Pagamento efetuado\")\n",
    "else:\n",
    "  print(\"Erro: Código de segurança inválido\")"
   ]
  },
  {
   "cell_type": "markdown",
   "metadata": {
    "id": "S4l78nxeedB-"
   },
   "source": [
    "## Código e senhade segurançade um cartãode crédito"
   ]
  },
  {
   "cell_type": "code",
   "execution_count": 12,
   "metadata": {
    "id": "3dBAa396eeOG"
   },
   "outputs": [],
   "source": [
    "codigo_de_seguranca= '852'\n",
    "codigo_de_seguranca_cadastro= '852'\n",
    "\n",
    "senha= '7783'\n",
    "senha_cadastro= '7783'"
   ]
  },
  {
   "cell_type": "markdown",
   "metadata": {
    "id": "xyWtErK1enEZ"
   },
   "source": [
    "## Código de segurançade um cartãode crédito"
   ]
  },
  {
   "cell_type": "code",
   "execution_count": 15,
   "metadata": {
    "colab": {
     "base_uri": "https://localhost:8080/"
    },
    "id": "D8rn41XvepJ9",
    "outputId": "e29ec884-2d34-4dab-a6cc-aebcdaaa96a2"
   },
   "outputs": [
    {
     "name": "stdout",
     "output_type": "stream",
     "text": [
      "Pagamento efetuado\n"
     ]
    }
   ],
   "source": [
    "if (codigo_de_seguranca == codigo_de_seguranca_cadastro) and (senha == senha_cadastro):\n",
    "    print(\"Pagamento efetuado\")\n",
    "else:\n",
    "    print(\"Erro: Pagamento não efetuado\")"
   ]
  },
  {
   "cell_type": "code",
   "execution_count": 17,
   "metadata": {
    "colab": {
     "base_uri": "https://localhost:8080/"
    },
    "id": "kfVlWcAZe5qF",
    "outputId": "3096a293-b532-4fbe-b66d-6cb0354a8c57"
   },
   "outputs": [
    {
     "name": "stdout",
     "output_type": "stream",
     "text": [
      "Pagamentoefetuado\n"
     ]
    }
   ],
   "source": [
    "if (codigo_de_seguranca!= codigo_de_seguranca_cadastro) or (senha!= senha_cadastro):\n",
    "  print(\"Erro: Pagamento não efetuado\")\n",
    "else:\n",
    "  print(\"Pagamentoefetuado\")"
   ]
  },
  {
   "cell_type": "code",
   "execution_count": null,
   "metadata": {},
   "outputs": [],
   "source": []
  },
  {
   "cell_type": "markdown",
   "metadata": {
    "id": "PP4c1w2RfNAl"
   },
   "source": [
    "## **if / elif / else**"
   ]
  },
  {
   "cell_type": "markdown",
   "metadata": {
    "id": "UEZwVQXLfQ9b"
   },
   "source": [
    "## Podemos também avaliar múltipla condições. if <1º booleano / 1ª comparação lógica> == True: <execute este código se a primeira condição for verdade> elif <2º booleano / 2ª comparação lógica> == True: <execute este código se a segunda condição for verdade> else: <senão execute este código>"
   ]
  },
  {
   "cell_type": "code",
   "execution_count": 19,
   "metadata": {
    "id": "X1qIh2tQfUzd"
   },
   "outputs": [],
   "source": [
    "codigo_de_seguranca = '802'\n",
    "codigo_de_seguranca_cadastro = '852'\n",
    "senha = '7703'\n",
    "senha_cadastro = '7783'"
   ]
  },
  {
   "cell_type": "code",
   "execution_count": 26,
   "metadata": {
    "colab": {
     "base_uri": "https://localhost:8080/"
    },
    "id": "x2oNYwr1fmMK",
    "outputId": "0784b1ca-6932-4aa5-8fa3-d2d2dbccbbba"
   },
   "outputs": [
    {
     "name": "stdout",
     "output_type": "stream",
     "text": [
      "Erro: Código de segurança e senha inválidos\n"
     ]
    }
   ],
   "source": [
    "if (codigo_de_seguranca == codigo_de_seguranca_cadastro) and \\\n",
    "   (senha == senha_cadastro):\n",
    "  print(\"Pagamento efetuado\")\n",
    "\n",
    "elif (codigo_de_seguranca != codigo_de_seguranca_cadastro) & \\\n",
    "     (senha == senha_cadastro):\n",
    "  print(\"Erro: Código de segurança inválido\")\n",
    "\n",
    "elif (codigo_de_seguranca == codigo_de_seguranca_cadastro) and \\\n",
    "  (senha != senha_cadastro):\n",
    "  print(\"Erro: Senha inválida inválida\")\n",
    "\n",
    "else:\n",
    "  print(\"Erro: Código de segurança e senha inválidos\")"
   ]
  },
  {
   "cell_type": "code",
   "execution_count": null,
   "metadata": {},
   "outputs": [],
   "source": []
  },
  {
   "cell_type": "markdown",
   "metadata": {
    "id": "4J6butF1jkf-"
   },
   "source": [
    "## Exceções são erros que podem acontecer durante a execução do nosso código. **CORRIGIDO!**"
   ]
  },
  {
   "cell_type": "code",
   "execution_count": 27,
   "metadata": {
    "id": "ntfOCa0Djl1o"
   },
   "outputs": [],
   "source": [
    "preco= 132.85\n",
    "pessoas = 0"
   ]
  },
  {
   "cell_type": "code",
   "execution_count": 30,
   "metadata": {
    "colab": {
     "base_uri": "https://localhost:8080/"
    },
    "id": "Pr8ZbUXKj7yW",
    "outputId": "a56ce5ec-1469-45b2-f97a-9ae4a4fda7d9"
   },
   "outputs": [
    {
     "name": "stdout",
     "output_type": "stream",
     "text": [
      "Erro: Não é possível dividir por zero.\n"
     ]
    }
   ],
   "source": [
    "if pessoas == 0:\n",
    "  print(\"Erro: Não é possível dividir por zero.\")\n",
    "else:\n",
    "  valor_por_pessoa = preco / pessoas\n",
    "  print (valor_por_pessoa)"
   ]
  },
  {
   "cell_type": "markdown",
   "metadata": {
    "id": "pLIULl-gkCL0"
   },
   "source": [
    "## Erro por combinações de tipos diferentes. **CORRIGIDO!**"
   ]
  },
  {
   "cell_type": "code",
   "execution_count": 34,
   "metadata": {
    "id": "czgVB9u1kDT8"
   },
   "outputs": [],
   "source": [
    "nome = 'AndrePerez'\n",
    "idade = True"
   ]
  },
  {
   "cell_type": "code",
   "execution_count": 36,
   "metadata": {
    "id": "NVlbU_tvkN7X"
   },
   "outputs": [],
   "source": [
    "apresentacao= 'Fala pessoal, meu nome é ' + nome + \\\n",
    "    ' e eu tenho ' + str(idade) + ' anos'"
   ]
  },
  {
   "cell_type": "markdown",
   "metadata": {
    "id": "UmptJFQlkY-a"
   },
   "source": [
    "## Erro de indexação de estrutura de dados. **CORRIGIDO!**"
   ]
  },
  {
   "cell_type": "code",
   "execution_count": 37,
   "metadata": {
    "id": "tafl3mM-kaYm"
   },
   "outputs": [],
   "source": [
    "anos = [2019, 2020, 2021]"
   ]
  },
  {
   "cell_type": "code",
   "execution_count": 41,
   "metadata": {
    "id": "x93Gm_h5kcdV"
   },
   "outputs": [],
   "source": [
    "ano_atual = anos[2]"
   ]
  },
  {
   "cell_type": "code",
   "execution_count": 42,
   "metadata": {
    "id": "MLKjPd5tk8ae"
   },
   "outputs": [],
   "source": [
    "cursos = {\n",
    "    'python': {\n",
    "        'nome': 'Python para Análise de Dados', 'duracao': 2.5\n",
    "        },\n",
    "    'sql': {\n",
    "        'nome': 'SQL para Análise de Dados', 'duracao': 2\n",
    "        }\n",
    "    }"
   ]
  },
  {
   "cell_type": "code",
   "execution_count": 44,
   "metadata": {
    "id": "oXhk4xKHlee6"
   },
   "outputs": [],
   "source": [
    "curso_atual = cursos['python']"
   ]
  },
  {
   "cell_type": "code",
   "execution_count": null,
   "metadata": {},
   "outputs": [],
   "source": []
  },
  {
   "cell_type": "markdown",
   "metadata": {
    "id": "mDfBY9_amAy7"
   },
   "source": [
    "## **Try/ except**\n",
    "## Estrutura para tratar exceções:"
   ]
  },
  {
   "cell_type": "code",
   "execution_count": 53,
   "metadata": {
    "colab": {
     "base_uri": "https://localhost:8080/"
    },
    "id": "VFu7CwvWmxSI",
    "outputId": "d3e536cd-264f-4733-f2d7-2da85bd7160d"
   },
   "outputs": [
    {
     "name": "stdout",
     "output_type": "stream",
     "text": [
      "66.425\n"
     ]
    }
   ],
   "source": [
    "preco= 132.85\n",
    "pessoas = 2\n",
    "\n",
    "try:\n",
    "  valor_por_pessoa= preco/ pessoas\n",
    "  print(valor_por_pessoa)\n",
    "except ZeroDivisionError:\n",
    "  print('Número de pessoas inválido. ' + \\\n",
    "        'Não é possível dividir por zero. ' + \\\n",
    "        'Por favor, insira um número maior que zero.')"
   ]
  },
  {
   "cell_type": "code",
   "execution_count": 59,
   "metadata": {
    "colab": {
     "base_uri": "https://localhost:8080/"
    },
    "id": "jusqnBRCnzpC",
    "outputId": "0a13acee-e258-4faf-f5a4-982cf600b3e8"
   },
   "outputs": [
    {
     "name": "stdout",
     "output_type": "stream",
     "text": [
      "Descrição da exceção: list index out of range\n",
      "Tipo da exceção: <class 'IndexError'>\n",
      "Lista de anos é menor que o valor escolhido. Espera-se um valor entre 0 e 2\n"
     ]
    }
   ],
   "source": [
    "anos = [2019, 2020, 2021]\n",
    "\n",
    "try:\n",
    "  ano_atual= anos[3]\n",
    "  print(ano_atual)\n",
    "except Exception as exc:\n",
    "  print('Descrição da exceção: ' + str(exc))\n",
    "  print('Tipo da exceção: ' + str(type(exc)))\n",
    "  print('Lista de anos é menor que o valor escolhido. ' + \\\n",
    "'Espera-se um valor entre 0 e ' + \\\n",
    "        str(len(anos) - 1)\n",
    "        )"
   ]
  },
  {
   "cell_type": "code",
   "execution_count": 88,
   "metadata": {
    "colab": {
     "base_uri": "https://localhost:8080/"
    },
    "id": "iOQmMffjpr6n",
    "outputId": "74839551-dc35-43d3-cd29-c463b10c0a75"
   },
   "outputs": [
    {
     "name": "stdout",
     "output_type": "stream",
     "text": [
      "Lista de anos é menor que o valor escolhido. Espera-se um valor entre 0 e 2\n",
      "Erro genérico\n"
     ]
    }
   ],
   "source": [
    "anos = [2019, 2020, 2021]\n",
    "\n",
    "try:\n",
    "  ano_atual= anos[3]\n",
    "  print(ano_atual)\n",
    "except IndexError:\n",
    "  print('Lista de anos é menor que o valor escolhido. ' + \\\n",
    "        'Espera-se um valor entre 0 e ' + \\\n",
    "        str(len(anos) -1)\n",
    "        )\n",
    "except Exception as exc: print(exc)\n",
    "print('Erro genérico')"
   ]
  },
  {
   "cell_type": "code",
   "execution_count": null,
   "metadata": {},
   "outputs": [],
   "source": []
  },
  {
   "cell_type": "markdown",
   "metadata": {
    "id": "O3P-gO3Xq6nu"
   },
   "source": [
    "## **try / except/ finally**\n",
    "## Estrutura para tratar exceções:"
   ]
  },
  {
   "cell_type": "code",
   "execution_count": 97,
   "metadata": {
    "colab": {
     "base_uri": "https://localhost:8080/"
    },
    "id": "lGGNgTdZr-rK",
    "outputId": "039dda3d-bf28-4fdc-d96d-d163136f17bc"
   },
   "outputs": [
    {
     "name": "stdout",
     "output_type": "stream",
     "text": [
      "Fala pessoal, meu nome é AndrePerez e eu tenho 19 anos\n",
      "Segunda chance\n",
      "Fala pessoal, meu nome é AndrePerez e eu tenho 19 anos\n"
     ]
    }
   ],
   "source": [
    "nome = 'AndrePerez'\n",
    "idade = 19\n",
    "\n",
    "try:\n",
    "  apresentacao= 'Fala pessoal, meu nome é ' + nome + \\\n",
    "  ' e eu tenho ' + str(idade) + ' anos'\n",
    "  print(apresentacao)\n",
    "\n",
    "except TypeError:\n",
    "  idade = str(idade)\n",
    "finally:\n",
    "  print('Segunda chance')\n",
    "  apresentacao= 'Fala pessoal, meu nome é ' + nome + \\\n",
    "  ' e eu tenho ' + str(idade) + ' anos'\n",
    "print(apresentacao)"
   ]
  },
  {
   "cell_type": "code",
   "execution_count": null,
   "metadata": {},
   "outputs": [],
   "source": []
  },
  {
   "cell_type": "markdown",
   "metadata": {
    "id": "6m79o46oshYK"
   },
   "source": [
    "## **for / in**\n",
    "## Estrutura que permite aexecução repetida de um bloco de código repetidas vezes. for variavel_temporariain coleção: <execute este código>"
   ]
  },
  {
   "cell_type": "markdown",
   "metadata": {
    "id": "Dvx5Ej7Fs2UW"
   },
   "source": [
    "## **for / in / range**\n",
    "## Estrutura que permite aexecução repetida de um bloco de código nvezes."
   ]
  },
  {
   "cell_type": "code",
   "execution_count": 98,
   "metadata": {
    "colab": {
     "base_uri": "https://localhost:8080/"
    },
    "id": "PFLpoqT8s41b",
    "outputId": "d8041572-7a32-4fa9-c488-6846d17c55a0"
   },
   "outputs": [
    {
     "name": "stdout",
     "output_type": "stream",
     "text": [
      "0\n",
      "1\n",
      "2\n",
      "3\n",
      "4\n",
      "5\n"
     ]
    }
   ],
   "source": [
    "for valor in range(6):\n",
    "  print(valor)"
   ]
  },
  {
   "cell_type": "code",
   "execution_count": 102,
   "metadata": {
    "colab": {
     "base_uri": "https://localhost:8080/"
    },
    "id": "97g5TWJds9yd",
    "outputId": "36e03a91-3b89-4306-ecf5-4e1063e9a1f1"
   },
   "outputs": [
    {
     "name": "stdout",
     "output_type": "stream",
     "text": [
      "4999950000\n"
     ]
    }
   ],
   "source": [
    "soma = 0\n",
    "\n",
    "for valor in range(0, 100000):\n",
    "  soma = soma + valor\n",
    "  # print(soma)\n",
    "\n",
    "print(soma)"
   ]
  },
  {
   "cell_type": "code",
   "execution_count": null,
   "metadata": {},
   "outputs": [],
   "source": []
  },
  {
   "cell_type": "markdown",
   "metadata": {
    "id": "3i0DSHuItZE9"
   },
   "source": [
    "## **for / in / dict**\n",
    "## Estrutura que permite a execução de um bloco de código para todos os elementos de um dicionário."
   ]
  },
  {
   "cell_type": "code",
   "execution_count": 103,
   "metadata": {
    "id": "ffVqCHQ7tb5m"
   },
   "outputs": [],
   "source": [
    "credito = {'123': 750, '456': 812, '789': 980}"
   ]
  },
  {
   "cell_type": "code",
   "execution_count": 105,
   "metadata": {
    "colab": {
     "base_uri": "https://localhost:8080/"
    },
    "id": "0xDBag57tfI3",
    "outputId": "97f387b3-70b5-4491-a7e5-5ec4d8f1e7d7"
   },
   "outputs": [
    {
     "name": "stdout",
     "output_type": "stream",
     "text": [
      "Para o documento 123, o valor do escore de crédito é 750.\n",
      "\n",
      "\n",
      "Para o documento 456, o valor do escore de crédito é 812.\n",
      "\n",
      "\n",
      "Para o documento 789, o valor do escore de crédito é 980.\n",
      "\n",
      "\n"
     ]
    }
   ],
   "source": [
    "for chave, valor in credito.items():\n",
    "  print(f'Para o documento {chave}, ' + \\\n",
    "        f'o valor do escore de crédito é {valor}.')\n",
    "  print('\\n')"
   ]
  },
  {
   "cell_type": "code",
   "execution_count": 108,
   "metadata": {
    "colab": {
     "base_uri": "https://localhost:8080/"
    },
    "id": "SENO2IQdtz_-",
    "outputId": "1221aa4a-6284-4615-e1c8-5f0b7eb6dde7"
   },
   "outputs": [
    {
     "name": "stdout",
     "output_type": "stream",
     "text": [
      "123\n",
      "750\n",
      "Para o documento 123, o valor do escore de crédito é 750.\n",
      "\n",
      "\n",
      "456\n",
      "812\n",
      "Para o documento 456, o valor do escore de crédito é 812.\n",
      "\n",
      "\n",
      "789\n",
      "980\n",
      "Para o documento 789, o valor do escore de crédito é 980.\n",
      "\n",
      "\n"
     ]
    }
   ],
   "source": [
    "for chave in credito.keys():\n",
    "  print(chave)\n",
    "  print(credito[chave])\n",
    "  print(f'Para o documento {chave}, ' + \\\n",
    "        f'o valor do escore de crédito é {credito[chave]}.')\n",
    "  print('\\n')"
   ]
  },
  {
   "cell_type": "code",
   "execution_count": 111,
   "metadata": {
    "colab": {
     "base_uri": "https://localhost:8080/"
    },
    "id": "QGMtsrGsuAzi",
    "outputId": "37508c59-1de2-4d56-d66a-9e3514c8f52e"
   },
   "outputs": [
    {
     "name": "stdout",
     "output_type": "stream",
     "text": [
      "750\n",
      "O valor do escore de crédito é 750, mas não temos mais as chaves :(.\n",
      "\n",
      "\n",
      "812\n",
      "O valor do escore de crédito é 812, mas não temos mais as chaves :(.\n",
      "\n",
      "\n",
      "980\n",
      "O valor do escore de crédito é 980, mas não temos mais as chaves :(.\n",
      "\n",
      "\n"
     ]
    }
   ],
   "source": [
    "for valor in credito.values():\n",
    "  print(valor)\n",
    "  print(f'O valor do escore de crédito é {valor}, ' +\n",
    "        'mas não temos mais as chaves :(.'\n",
    "        )\n",
    "  print('\\n')"
   ]
  },
  {
   "cell_type": "code",
   "execution_count": null,
   "metadata": {},
   "outputs": [],
   "source": []
  },
  {
   "cell_type": "markdown",
   "metadata": {
    "id": "9vnD-7xIuoLd"
   },
   "source": [
    "## **break / continue**\n",
    "## Estrutura que permite a quebra ou o avanço de um laço de repetição."
   ]
  },
  {
   "cell_type": "code",
   "execution_count": 112,
   "metadata": {
    "colab": {
     "base_uri": "https://localhost:8080/"
    },
    "id": "UZF1f7X1urGG",
    "outputId": "e969b60e-f2e4-47b0-b60b-205821fbada6"
   },
   "outputs": [
    {
     "name": "stdout",
     "output_type": "stream",
     "text": [
      "0\n",
      "1\n",
      "2\n",
      "3\n",
      "4\n",
      "5\n",
      "6\n",
      "7\n",
      "8\n",
      "9\n",
      "10\n"
     ]
    }
   ],
   "source": [
    "for i in range(0, 10*10*10*10*10*10):\n",
    "  print(i)\n",
    "  if i == 10:\n",
    "    break"
   ]
  },
  {
   "cell_type": "code",
   "execution_count": 114,
   "metadata": {
    "colab": {
     "base_uri": "https://localhost:8080/"
    },
    "id": "mt0pt7b8uzTh",
    "outputId": "8adca929-c798-484c-c36f-005c3e91a195"
   },
   "outputs": [
    {
     "name": "stdout",
     "output_type": "stream",
     "text": [
      "O numero 3 é impar\n"
     ]
    }
   ],
   "source": [
    "numero = 3\n",
    "\n",
    "if numero % 2 == 0:\n",
    "  print(f'O numero {numero} é par')\n",
    "else:\n",
    "  print(f'O numero {numero} é impar')"
   ]
  },
  {
   "cell_type": "code",
   "execution_count": 123,
   "metadata": {
    "colab": {
     "base_uri": "https://localhost:8080/"
    },
    "id": "vicaXtBavBO5",
    "outputId": "d78eab35-d408-43d6-ffe0-397be5ef7176"
   },
   "outputs": [
    {
     "name": "stdout",
     "output_type": "stream",
     "text": [
      "O numero 194 é par\n",
      "O numero 510 é par\n",
      "O numero 135 é impar\n"
     ]
    }
   ],
   "source": [
    "numeros= [361, 553, 194, 13, 510, 33, 135]\n",
    "\n",
    "for numero in numeros:\n",
    "\n",
    " if numero % 2 == 0:\n",
    "  print(f'O numero {numero} é par')\n",
    "else:\n",
    "  print(f'O numero {numero} é impar')"
   ]
  },
  {
   "cell_type": "code",
   "execution_count": 141,
   "metadata": {
    "colab": {
     "base_uri": "https://localhost:8080/"
    },
    "id": "tdKw5xo9wxBv",
    "outputId": "e04e162a-95a2-4809-abd5-68c480027db2"
   },
   "outputs": [
    {
     "name": "stdout",
     "output_type": "stream",
     "text": [
      "O numero 194 é par\n"
     ]
    }
   ],
   "source": [
    "numeros = [361, 553, 194, 13, 510, 33, 135]\n",
    "\n",
    "for numero in numeros:\n",
    "\n",
    " if numero % 2 == 0:\n",
    "    print(f'O numero {numero} é par')\n",
    "    break\n",
    " else:\n",
    "    continue\n",
    " print(f'O numero {numero} é impar')"
   ]
  },
  {
   "cell_type": "code",
   "execution_count": null,
   "metadata": {},
   "outputs": [],
   "source": []
  },
  {
   "cell_type": "markdown",
   "metadata": {
    "id": "bdD1Wf9VzzxL"
   },
   "source": [
    "# **Conheça as estruturas condicionais if / else / elif:**"
   ]
  },
  {
   "cell_type": "markdown",
   "metadata": {
    "id": "oLkW4qVkz-pl"
   },
   "source": [
    "## **Bloco:**\n",
    "## **-** Grupo de comandos consecutivos com a mesma indentação.\n",
    "\n",
    "## **Comando condicional:**\n",
    "## **-** Comando que controla o fluxo de execução dependendo de alguma condição.\n",
    "\n",
    "## **Condição:**\n",
    "## **-** A expressão booleana que determina qual bloco será executado num comando condicional.\n",
    "\n",
    "## **Expressão booleana:**\n",
    "## **-** Uma expressão que é verdadeira ou falsa.\n",
    "\n",
    "## **Indentação:**\n",
    "## **-** É uma quantidade uniforme de espaço na margem para separar os blocos de código de cada estrutura. A sugestão para essa quantidade é dois espaços ou mais. Entretanto, sempre use múltiplos de dois para facilitar.\n",
    "\n",
    "## **Operador de comparação:**\n",
    "## **-** Um dos operadores que compara dois valores: ==, !=, >, <, >=, e <=.\n",
    "\n",
    "## **Operador lógico:**\n",
    "## **-** Um dos operadores que combina expressões booleanas: and, or, e not."
   ]
  },
  {
   "cell_type": "code",
   "execution_count": null,
   "metadata": {},
   "outputs": [],
   "source": []
  },
  {
   "cell_type": "markdown",
   "metadata": {
    "id": "jmKWjJfZ11K8"
   },
   "source": [
    "# **Estruturas condicionais try / except/ finally:**"
   ]
  },
  {
   "cell_type": "markdown",
   "metadata": {
    "id": "FPZqgciX2d-E"
   },
   "source": [
    "## **Bug:**\n",
    "## **-** Erro em um programa.\n",
    "\n",
    "## **Depuração (debugging):**\n",
    "## **-** O processo de encontrar e remover qualquer um dos três tipos de erros de programação.\n",
    "\n",
    "## **Exceção:**\n",
    "## **-** Um outro nome para um erro em tempo de execução ou erro de runtime.\n",
    "\n",
    "## **Índice:**\n",
    "## **_** Uma variável inteira ou valor que indica um elemento de uma lista.\n",
    "\n",
    "## **IndexError:**\n",
    "## **-** Ocorre quando os tipos de dados compostos são manipulados de forma inadequada.\n",
    "\n",
    "## **KeyError:**\n",
    "## **-** Ocorre quando uma chave de mapeamento (dicionário) não é encontrada no conjunto de chaves existentes.\n",
    "\n",
    "## **TypeError:**\n",
    "## **-** Ocorre quando uma operação ou função é aplicada a um objeto de tipo inadequado.\n",
    "\n",
    "## **ZeroDivisionError:**\n",
    "## **-** Ocorre quando o segundo argumento de uma divisão ou operação de módulo é zero."
   ]
  },
  {
   "cell_type": "code",
   "execution_count": null,
   "metadata": {},
   "outputs": [],
   "source": []
  },
  {
   "cell_type": "markdown",
   "metadata": {
    "id": "gPATejbG3xK5"
   },
   "source": [
    "# **Estrutura de repetição for / in:**"
   ]
  },
  {
   "cell_type": "markdown",
   "metadata": {
    "id": "miu2r7o74Lwx"
   },
   "source": [
    "## **Caractere (char):**\n",
    "## **-** Caractere é a unidade mínima de toda String. Um caractere pode ser numérico, letras do alfabeto ou um caractere especial.\n",
    "\n",
    "## **Break/continue:**\n",
    "## **-** É uma estrutura que permite a quebra ou o avanço de um laço de repetição.\n",
    "\n",
    "## **Iteração:**\n",
    "## **-** Execução repetida de um conjunto de comandos usando uma chamada recursiva de função ou um laço.\n",
    "\n",
    "## **Laço (loop):**\n",
    "## **-** Um comando ou conjunto de comandos que executam repetidamente até que uma condição de interrupção seja atingida.\n",
    "\n",
    "## **Laço de repetição:**\n",
    "## **-** São estruturas de controle do programa usadas para repetir a execução de um bloco de código enquanto uma condição for verdadeira.\n",
    "\n",
    "## **Range:**\n",
    "## **-** É uma estrutura que permite a execução repetida de um bloco de código “n” vezes."
   ]
  }
 ],
 "metadata": {
  "colab": {
   "provenance": []
  },
  "kernelspec": {
   "display_name": "Python 3 (ipykernel)",
   "language": "python",
   "name": "python3"
  },
  "language_info": {
   "codemirror_mode": {
    "name": "ipython",
    "version": 3
   },
   "file_extension": ".py",
   "mimetype": "text/x-python",
   "name": "python",
   "nbconvert_exporter": "python",
   "pygments_lexer": "ipython3",
   "version": "3.9.19"
  }
 },
 "nbformat": 4,
 "nbformat_minor": 4
}
