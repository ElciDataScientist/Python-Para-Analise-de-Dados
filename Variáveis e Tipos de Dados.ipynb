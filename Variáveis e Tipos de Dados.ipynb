{
 "cells": [
  {
   "cell_type": "markdown",
   "metadata": {
    "id": "POGVKhsaNX4m"
   },
   "source": [
    "\n",
    "### **Mecanismo de armazenamento volátil de dados, ou seja, dados salvos em pedacinhos da memória RAM do sistema computacional em uso.**\n",
    "\n"
   ]
  },
  {
   "cell_type": "code",
   "execution_count": 1,
   "metadata": {
    "colab": {
     "base_uri": "https://localhost:8080/"
    },
    "id": "bDycKwc7MgGB",
    "outputId": "8e2e7a26-076c-4f58-fbf4-4a002ca3e024"
   },
   "outputs": [
    {
     "name": "stdout",
     "output_type": "stream",
     "text": [
      "30\n",
      "27\n",
      "andré\n"
     ]
    }
   ],
   "source": [
    "idade = 30\n",
    "print(idade)\n",
    "\n",
    "idade = 27\n",
    "print(idade)\n",
    "\n",
    "nome = \"andré\"\n",
    "print(nome)"
   ]
  },
  {
   "cell_type": "markdown",
   "metadata": {
    "id": "-BBu18cdN_Ua"
   },
   "source": [
    "## **Tipos nativos**\n",
    "## • Tipos numéricos: inteiros (**int**) e decimais (**float**):"
   ]
  },
  {
   "cell_type": "code",
   "execution_count": 2,
   "metadata": {
    "colab": {
     "base_uri": "https://localhost:8080/"
    },
    "id": "i8uVNBGgOZfj",
    "outputId": "658f37cd-6b16-4672-8bd5-b20492af2227"
   },
   "outputs": [
    {
     "name": "stdout",
     "output_type": "stream",
     "text": [
      "1000\n",
      "<class 'int'>\n",
      "0.05\n",
      "<class 'float'>\n"
     ]
    }
   ],
   "source": [
    "preco = 1000\n",
    "tipo_preco = type(preco)\n",
    "\n",
    "print(preco)\n",
    "print(tipo_preco)\n",
    "\n",
    "juros = 0.05\n",
    "tipo_juros = type(juros)\n",
    "\n",
    "print(juros)\n",
    "print(tipo_juros)"
   ]
  },
  {
   "cell_type": "markdown",
   "metadata": {
    "id": "vMJgceEZO1ky"
   },
   "source": [
    "## • Tipos de texto: strings (**str**):"
   ]
  },
  {
   "cell_type": "code",
   "execution_count": 3,
   "metadata": {
    "colab": {
     "base_uri": "https://localhost:8080/"
    },
    "id": "m2_wegm7O7rx",
    "outputId": "b7872a2e-964f-41b5-eeca-15464fba6e4b"
   },
   "outputs": [
    {
     "name": "stdout",
     "output_type": "stream",
     "text": [
      "André\n",
      "<class 'str'>\n",
      "Brasil\n",
      "<class 'str'>\n"
     ]
    }
   ],
   "source": [
    "primeiro_nome = \"André\"\n",
    "\n",
    "print(primeiro_nome)\n",
    "print(type(primeiro_nome))\n",
    "\n",
    "pais = 'Brasil'\n",
    "\n",
    "print(pais)\n",
    "print(type(pais))"
   ]
  },
  {
   "cell_type": "markdown",
   "metadata": {
    "id": "g4UogsQ-PSxA"
   },
   "source": [
    "## • Tipos lógicos: booleanos (**bool**):"
   ]
  },
  {
   "cell_type": "code",
   "execution_count": 4,
   "metadata": {
    "colab": {
     "base_uri": "https://localhost:8080/"
    },
    "id": "OXyv2hiFPXal",
    "outputId": "d885da93-9ce4-473f-9572-07439a12fc6a"
   },
   "outputs": [
    {
     "name": "stdout",
     "output_type": "stream",
     "text": [
      "True\n",
      "<class 'bool'>\n"
     ]
    }
   ],
   "source": [
    "usuario_maior_de_idade = True\n",
    "\n",
    "print(usuario_maior_de_idade)\n",
    "print(type(usuario_maior_de_idade))"
   ]
  },
  {
   "cell_type": "markdown",
   "metadata": {
    "id": "QMliyrEzPuwO"
   },
   "source": [
    "## • Tipo vazio (**NoneType**):"
   ]
  },
  {
   "cell_type": "code",
   "execution_count": 5,
   "metadata": {
    "colab": {
     "base_uri": "https://localhost:8080/"
    },
    "id": "JO8_9Lv0P6my",
    "outputId": "ca939ece-1ca4-4fa7-9d9d-7185270a0e01"
   },
   "outputs": [
    {
     "name": "stdout",
     "output_type": "stream",
     "text": [
      "None\n",
      "<class 'NoneType'>\n"
     ]
    }
   ],
   "source": [
    "telefone_fixo = None\n",
    "\n",
    "print(telefone_fixo)\n",
    "print(type(telefone_fixo))"
   ]
  },
  {
   "cell_type": "markdown",
   "metadata": {
    "id": "uX_NWgD4QaNa"
   },
   "source": [
    "## **Operações**\n",
    "## Carrinho de compra de um e-commerce."
   ]
  },
  {
   "cell_type": "code",
   "execution_count": 6,
   "metadata": {
    "colab": {
     "base_uri": "https://localhost:8080/"
    },
    "id": "t9RU6QDfQkSo",
    "outputId": "d6f173f0-3610-4d1d-91b0-c89f09c4fc88"
   },
   "outputs": [
    {
     "name": "stdout",
     "output_type": "stream",
     "text": [
      "1\n",
      "2\n",
      "1\n",
      "2\n"
     ]
    }
   ],
   "source": [
    "qtd_items_carrinho_compra = 0\n",
    "\n",
    "qtd_items_carrinho_compra = qtd_items_carrinho_compra + 1\n",
    "print(qtd_items_carrinho_compra)\n",
    "\n",
    "qtd_items_carrinho_compra = qtd_items_carrinho_compra + 1\n",
    "print(qtd_items_carrinho_compra)\n",
    "\n",
    "qtd_items_carrinho_compra = 0\n",
    "\n",
    "qtd_items_carrinho_compra += 1\n",
    "print(qtd_items_carrinho_compra)\n",
    "\n",
    "qtd_items_carrinho_compra += 1\n",
    "print(qtd_items_carrinho_compra)"
   ]
  },
  {
   "cell_type": "markdown",
   "metadata": {
    "id": "vWDBHvXORg3a"
   },
   "source": [
    " ## Total a pagar de um produto."
   ]
  },
  {
   "cell_type": "code",
   "execution_count": 7,
   "metadata": {
    "colab": {
     "base_uri": "https://localhost:8080/"
    },
    "id": "LGD25saRRijZ",
    "outputId": "04d46794-16a6-447d-d563-a23b8bfbbdb2"
   },
   "outputs": [
    {
     "name": "stdout",
     "output_type": "stream",
     "text": [
      "11.75\n",
      "1.5\n",
      "<class 'float'>\n",
      "1\n",
      "<class 'int'>\n"
     ]
    }
   ],
   "source": [
    "preco = 47\n",
    "quantidade = 0.250\n",
    "\n",
    "total_a_pagar = quantidade * preco\n",
    "print(total_a_pagar)\n",
    "\n",
    "a = 3\n",
    "b = 2\n",
    "\n",
    "c = a / b\n",
    "print(c)\n",
    "print(type(c))\n",
    "\n",
    "d = a // b\n",
    "print(d)\n",
    "print(type(d))"
   ]
  },
  {
   "cell_type": "markdown",
   "metadata": {
    "id": "xpirU5oZSJeV"
   },
   "source": [
    "## **Conversão**\n",
    "## Converter os tipos numéricos entre si utilizando o método nativo **int** , **float** e **complex**"
   ]
  },
  {
   "cell_type": "code",
   "execution_count": 8,
   "metadata": {
    "colab": {
     "base_uri": "https://localhost:8080/"
    },
    "id": "phhpFUK9SQAc",
    "outputId": "2d0adda9-d48a-4029-b3ac-8c9b041dcab3"
   },
   "outputs": [
    {
     "name": "stdout",
     "output_type": "stream",
     "text": [
      "3\n",
      "10.0\n",
      "(1+0j)\n"
     ]
    }
   ],
   "source": [
    "print(int(3.9))\n",
    "\n",
    "print(float(10))\n",
    "\n",
    "print(complex(1))"
   ]
  },
  {
   "cell_type": "markdown",
   "metadata": {
    "id": "HMb6tN8lSx-G"
   },
   "source": [
    "## Ticket médio diário do dia."
   ]
  },
  {
   "cell_type": "code",
   "execution_count": 9,
   "metadata": {
    "colab": {
     "base_uri": "https://localhost:8080/"
    },
    "id": "wVwZu7gHSzZy",
    "outputId": "b4eff805-dc78-4687-eddc-ff25f2912492"
   },
   "outputs": [
    {
     "name": "stdout",
     "output_type": "stream",
     "text": [
      "51.32666666666666\n"
     ]
    }
   ],
   "source": [
    "svv_19 = 153.98\n",
    "sqv_19 = 3\n",
    "\n",
    "tkt_19 = svv_19 / sqv_19\n",
    "print(tkt_19)"
   ]
  },
  {
   "cell_type": "markdown",
   "metadata": {
    "id": "GP0RNjoxTGjQ"
   },
   "source": [
    "## Ticket médio diário do dia 2."
   ]
  },
  {
   "cell_type": "code",
   "execution_count": 10,
   "metadata": {
    "colab": {
     "base_uri": "https://localhost:8080/"
    },
    "id": "Ai8gjcaXTI0V",
    "outputId": "ba243393-e6fd-40ff-89f0-4acfe74b40f5"
   },
   "outputs": [
    {
     "name": "stdout",
     "output_type": "stream",
     "text": [
      "48.144285714285715\n"
     ]
    }
   ],
   "source": [
    "svv_20 = 337.01\n",
    "sqv_20 = 7\n",
    "\n",
    "tkt_20 = svv_20 / sqv_20\n",
    "print(tkt_20)"
   ]
  },
  {
   "cell_type": "markdown",
   "metadata": {
    "id": "dGAVbuNTTgMv"
   },
   "source": [
    "## Ticket médio diário do dia 3."
   ]
  },
  {
   "cell_type": "code",
   "execution_count": 11,
   "metadata": {
    "colab": {
     "base_uri": "https://localhost:8080/"
    },
    "id": "TIufSyvOTjyx",
    "outputId": "98a6df76-2ee0-48f1-a6d1-8f5e03ad1735"
   },
   "outputs": [
    {
     "name": "stdout",
     "output_type": "stream",
     "text": [
      "59.065999999999995\n"
     ]
    }
   ],
   "source": [
    "svv_23 = 295.33\n",
    "sqv_23 = 5\n",
    "\n",
    "tkt_23 = svv_23 / sqv_23\n",
    "print(tkt_23)"
   ]
  },
  {
   "cell_type": "markdown",
   "metadata": {
    "id": "jjk51FJwTvKy"
   },
   "source": [
    "## Ticket médio"
   ]
  },
  {
   "cell_type": "code",
   "execution_count": 12,
   "metadata": {
    "colab": {
     "base_uri": "https://localhost:8080/"
    },
    "id": "EXo9JIfgTwDd",
    "outputId": "79e4a017-6f91-48dc-e406-3e7d3984aaf8"
   },
   "outputs": [
    {
     "name": "stdout",
     "output_type": "stream",
     "text": [
      "52.8456507936508\n"
     ]
    }
   ],
   "source": [
    "tkt = (tkt_19 + tkt_20 + tkt_23) / 3\n",
    "print(tkt)"
   ]
  },
  {
   "cell_type": "markdown",
   "metadata": {
    "id": "yr6tDEcxUTwv"
   },
   "source": [
    "## A empresa que você trabalha adquiriu uma startup de logística. Você precisa identificar todos endereços que são comum a ambas. Na sua empresa, você armazena a latitude e longitude dos endereços em duas variáveis lat e lon, já a startup adquirida em uma única variável latlon."
   ]
  },
  {
   "cell_type": "code",
   "execution_count": 13,
   "metadata": {
    "id": "inpD3VAeUb26"
   },
   "outputs": [],
   "source": [
    "# sua empresa\n",
    "lat = '-22.005320'\n",
    "lon = '-47.891040'\n",
    "\n",
    "# startup adquirida\n",
    "latlon = '-22.005320;-47.891040'"
   ]
  },
  {
   "cell_type": "markdown",
   "metadata": {
    "id": "ADKhNIazUttY"
   },
   "source": [
    "## **Armazenam textos:**\n",
    "## São do tipo str"
   ]
  },
  {
   "cell_type": "code",
   "execution_count": 14,
   "metadata": {
    "colab": {
     "base_uri": "https://localhost:8080/"
    },
    "id": "YSz06RwJUuhL",
    "outputId": "91d21fc9-55e9-4512-a0bf-cdf568c7a87e"
   },
   "outputs": [
    {
     "name": "stdout",
     "output_type": "stream",
     "text": [
      "Aula 04, Módulo 01, Strings\n",
      "<class 'str'>\n",
      "\n",
      "<class 'str'>\n"
     ]
    }
   ],
   "source": [
    "nome_aula = 'Aula 04, Módulo 01, Strings'\n",
    "\n",
    "print(nome_aula)\n",
    "print(type(nome_aula))\n",
    "\n",
    "string_vazia = \"\"\n",
    "\n",
    "print(string_vazia)\n",
    "print(type(string_vazia))"
   ]
  },
  {
   "cell_type": "markdown",
   "metadata": {
    "id": "D_9q2kMYVKrD"
   },
   "source": [
    "## As operações de variáveis do tipo string são: + (**concatenação**);"
   ]
  },
  {
   "cell_type": "code",
   "execution_count": 15,
   "metadata": {
    "colab": {
     "base_uri": "https://localhost:8080/"
    },
    "id": "8ezk2I-3VPDo",
    "outputId": "33a2784e-a49b-45c4-8215-ed7230602fa9"
   },
   "outputs": [
    {
     "name": "stdout",
     "output_type": "stream",
     "text": [
      "Olá, meu nome é Andre Marcos Perez.\n"
     ]
    }
   ],
   "source": [
    "nome = 'Andre Marcos'\n",
    "sobrenome = 'Perez'\n",
    "\n",
    "apresentacao = 'Olá, meu nome é ' + nome + ' ' + sobrenome + '.'\n",
    "print(apresentacao)"
   ]
  },
  {
   "cell_type": "markdown",
   "metadata": {
    "id": "pghVLs_aVh0J"
   },
   "source": [
    "## Uma outra forma de **concatenar strings** é utilizar operações de formatação:"
   ]
  },
  {
   "cell_type": "code",
   "execution_count": 16,
   "metadata": {
    "colab": {
     "base_uri": "https://localhost:8080/"
    },
    "id": "HYr8A0QHVi1J",
    "outputId": "9b719314-f255-49dc-9dce-d9fcd2483fb2"
   },
   "outputs": [
    {
     "name": "stdout",
     "output_type": "stream",
     "text": [
      "Olá, meu nome é Andre Marcos Perez.\n"
     ]
    }
   ],
   "source": [
    "nome = 'Andre Marcos'\n",
    "sobrenome = 'Perez'\n",
    "\n",
    "apresentacao = f'Olá, meu nome é {nome} {sobrenome}.'\n",
    "print(apresentacao)"
   ]
  },
  {
   "cell_type": "markdown",
   "metadata": {
    "id": "jjunP-7fVyp1"
   },
   "source": [
    "## Outra operação muito utilizada é a de fatiamento (**slicing**):"
   ]
  },
  {
   "cell_type": "code",
   "execution_count": 17,
   "metadata": {
    "id": "S4dLD6K6V0UF"
   },
   "outputs": [],
   "source": [
    "email = 'andre.perez@gmail.com'"
   ]
  },
  {
   "cell_type": "markdown",
   "metadata": {
    "id": "p6LklxeUV8t3"
   },
   "source": [
    "## Fatiamento **fixo**:"
   ]
  },
  {
   "cell_type": "code",
   "execution_count": 18,
   "metadata": {
    "colab": {
     "base_uri": "https://localhost:8080/"
    },
    "id": "z383_0XrV9-Q",
    "outputId": "d5e23707-47cb-4a1f-a1ba-e440234d7f97"
   },
   "outputs": [
    {
     "name": "stdout",
     "output_type": "stream",
     "text": [
      "0: a\n",
      "11: @\n",
      "-1: m\n",
      "-2: o\n"
     ]
    }
   ],
   "source": [
    "print('0: ' + email[0])\n",
    "\n",
    "print('11: ' + email[11])\n",
    "\n",
    "print('-1: ' + email[-1])\n",
    "print('-2: ' + email[-2])"
   ]
  },
  {
   "cell_type": "markdown",
   "metadata": {
    "id": "LD18HMDkWLHG"
   },
   "source": [
    "## Fatiamento por **intervalo**:"
   ]
  },
  {
   "cell_type": "code",
   "execution_count": 19,
   "metadata": {
    "colab": {
     "base_uri": "https://localhost:8080/"
    },
    "id": "jfj7D6PoWN-k",
    "outputId": "5b7555f0-aadc-48a4-9dd4-9afc1317b48e"
   },
   "outputs": [
    {
     "name": "stdout",
     "output_type": "stream",
     "text": [
      "andre.perez\n",
      "gmail.com\n"
     ]
    }
   ],
   "source": [
    "email_usuario = email[0:11]\n",
    "print(email_usuario)\n",
    "\n",
    "email_provedor = email[12:21]\n",
    "print(email_provedor)"
   ]
  },
  {
   "cell_type": "markdown",
   "metadata": {
    "id": "X_mYBCttWd4K"
   },
   "source": [
    "## São métodos nativos do **Python** que nos ajudam a trabalhar no dia a dia com **strings**."
   ]
  },
  {
   "cell_type": "code",
   "execution_count": 20,
   "metadata": {
    "colab": {
     "base_uri": "https://localhost:8080/"
    },
    "id": "F2lgLZMJWeut",
    "outputId": "7be100ae-035e-4997-fda3-8f34aeb62640"
   },
   "outputs": [
    {
     "name": "stdout",
     "output_type": "stream",
     "text": [
      "AVENIDA PAULISTA, 1811, SÃO PAULO, SÃO PAULO, BRASIL.\n",
      "46\n",
      "Av Paulista, 1811, São Paulo, São Paulo, Brasil.\n"
     ]
    }
   ],
   "source": [
    "endereco = 'Avenida Paulista, 1811, São Paulo, São Paulo, Brasil.'\n",
    "\n",
    "# maiusculo: string.upper()\n",
    "print(endereco.upper())\n",
    "\n",
    "# posicao: string.find(substring)\n",
    "posicao = endereco.find('Brasil')\n",
    "print(posicao)\n",
    "\n",
    "# substituição: string.replace(antigo, novo)\n",
    "print(endereco.replace('Avenida',  'Av'))"
   ]
  },
  {
   "cell_type": "markdown",
   "metadata": {
    "id": "gzJOERFFXFNK"
   },
   "source": [
    "## Podemos converter **strings** em tipos numéricos e **vice-versa**."
   ]
  },
  {
   "cell_type": "code",
   "execution_count": 21,
   "metadata": {
    "colab": {
     "base_uri": "https://localhost:8080/"
    },
    "id": "6iU6mPLlXIwl",
    "outputId": "d76cfdc6-7dc8-45d1-cf29-a05900632e09"
   },
   "outputs": [
    {
     "name": "stdout",
     "output_type": "stream",
     "text": [
      "<class 'int'>\n",
      "<class 'str'>\n",
      "R$ 35 mi\n",
      "<class 'str'>\n",
      "35\n",
      "<class 'int'>\n"
     ]
    }
   ],
   "source": [
    "idade = 19\n",
    "print(type(idade))\n",
    "\n",
    "idade = str(idade)\n",
    "print(type(idade))\n",
    "\n",
    "faturamento = 'R$ 35 mi'\n",
    "print(faturamento)\n",
    "print(type(idade))\n",
    "\n",
    "faturamento = int(faturamento[3:5])\n",
    "print(faturamento)\n",
    "print(type(faturamento))"
   ]
  },
  {
   "cell_type": "markdown",
   "metadata": {
    "id": "XCpfEdJXXdHC"
   },
   "source": [
    "## Encontrando a posição do caracter de divisão das strings de latitude e longitude da variável da startup:"
   ]
  },
  {
   "cell_type": "code",
   "execution_count": 22,
   "metadata": {
    "colab": {
     "base_uri": "https://localhost:8080/"
    },
    "id": "rJ4dlZc1XgOk",
    "outputId": "1154247e-adf0-4873-dab1-a752e988f845"
   },
   "outputs": [
    {
     "name": "stdout",
     "output_type": "stream",
     "text": [
      "10\n"
     ]
    }
   ],
   "source": [
    "posicao_char_divisao = latlon.find(';')\n",
    "print(posicao_char_divisao)"
   ]
  },
  {
   "cell_type": "markdown",
   "metadata": {
    "id": "JCxtDVwGXo3R"
   },
   "source": [
    "## Extraindo a latitude:"
   ]
  },
  {
   "cell_type": "code",
   "execution_count": 23,
   "metadata": {
    "colab": {
     "base_uri": "https://localhost:8080/"
    },
    "id": "CDoDxOduXrog",
    "outputId": "8772b4ae-6bb1-4e3c-8e03-b4c77a9422c2"
   },
   "outputs": [
    {
     "name": "stdout",
     "output_type": "stream",
     "text": [
      "-22.005320\n"
     ]
    }
   ],
   "source": [
    "lat_startup = latlon[0:posicao_char_divisao]\n",
    "print(lat_startup)"
   ]
  },
  {
   "cell_type": "markdown",
   "metadata": {
    "id": "krytlDoxXvrd"
   },
   "source": [
    "## Extraindo a longitude:"
   ]
  },
  {
   "cell_type": "code",
   "execution_count": 24,
   "metadata": {
    "colab": {
     "base_uri": "https://localhost:8080/"
    },
    "id": "gXCnX0N1Xy7S",
    "outputId": "b2f4c52b-ed49-4210-df2c-a281d498d112"
   },
   "outputs": [
    {
     "name": "stdout",
     "output_type": "stream",
     "text": [
      "-47.891040\n"
     ]
    }
   ],
   "source": [
    "lon_startup = latlon[posicao_char_divisao+1:len(latlon)]\n",
    "print(lon_startup)"
   ]
  },
  {
   "cell_type": "markdown",
   "metadata": {
    "id": "TbSJZsuqYBaM"
   },
   "source": [
    "## Em websites (redes sociais, e-commerce, corporativos, etc.) é comum o uso de sistemas de controle de acesso, o famoso login. Em geral, nestes sistemas um usuário fornece dois dados: usuário e senha."
   ]
  },
  {
   "cell_type": "code",
   "execution_count": 25,
   "metadata": {
    "id": "rmURm1QRYCLI"
   },
   "outputs": [],
   "source": [
    "usuario = 'andre.perez'\n",
    "senha = 'andre123'"
   ]
  },
  {
   "cell_type": "markdown",
   "metadata": {
    "id": "CsrNlWLIYGKW"
   },
   "source": [
    "## Do lado do servidor, o backend do website tem armazenado os dados de usuário e senha fornecidas pelo usuário no momento do cadastro: usuario_cadastro e senha_cadastro."
   ]
  },
  {
   "cell_type": "code",
   "execution_count": 26,
   "metadata": {
    "id": "GKyp1LN5YLkm"
   },
   "outputs": [],
   "source": [
    "usuario_cadastro = 'andre.perez'\n",
    "senha_cadastro = 'andre321'"
   ]
  },
  {
   "cell_type": "code",
   "execution_count": null,
   "metadata": {},
   "outputs": [],
   "source": []
  },
  {
   "cell_type": "markdown",
   "metadata": {
    "id": "hjbsuppoYPX8"
   },
   "source": [
    "## **Armazenam valores lógicos:**\n",
    "## **True**(**verdadeiro**)\n",
    "## **False** (**falso**)."
   ]
  },
  {
   "cell_type": "code",
   "execution_count": 27,
   "metadata": {
    "colab": {
     "base_uri": "https://localhost:8080/"
    },
    "id": "29EldiWaYXQ2",
    "outputId": "d39d3d60-ee33-4e7b-8e4f-173745301d99"
   },
   "outputs": [
    {
     "name": "stdout",
     "output_type": "stream",
     "text": [
      "True\n",
      "False\n"
     ]
    }
   ],
   "source": [
    "verdadeiro = True\n",
    "print(verdadeiro)\n",
    "\n",
    "falso = False\n",
    "print(falso)"
   ]
  },
  {
   "cell_type": "markdown",
   "metadata": {
    "id": "fJIkXY3hYlx-"
   },
   "source": [
    "## **São do tipo bool**"
   ]
  },
  {
   "cell_type": "code",
   "execution_count": 28,
   "metadata": {
    "colab": {
     "base_uri": "https://localhost:8080/"
    },
    "id": "m6zNpcClYnTv",
    "outputId": "40db4077-b833-4031-bea5-8b2004559c0a"
   },
   "outputs": [
    {
     "name": "stdout",
     "output_type": "stream",
     "text": [
      "<class 'bool'>\n"
     ]
    }
   ],
   "source": [
    "print(type(True))"
   ]
  },
  {
   "cell_type": "code",
   "execution_count": null,
   "metadata": {},
   "outputs": [],
   "source": []
  },
  {
   "cell_type": "markdown",
   "metadata": {
    "id": "QCCwl4FvYrW0"
   },
   "source": [
    "## **São resultados de comparações lógicas.**\n",
    "## **Os operadores de comparação lógica são:**\n",
    "## - **>** (**maior**);\n",
    "## - **<** (**menor**);\n",
    "## - **==** (**igual**);\n",
    "## - **>=** (**maior ou igual**);\n",
    "## - **<=** (**menor ou igual**);\n",
    "## - **!=** (**diferente**)."
   ]
  },
  {
   "cell_type": "code",
   "execution_count": null,
   "metadata": {},
   "outputs": [],
   "source": []
  },
  {
   "cell_type": "markdown",
   "metadata": {
    "id": "7bCzhqTuZfDn"
   },
   "source": [
    "## Caixa eletrônico"
   ]
  },
  {
   "cell_type": "code",
   "execution_count": 29,
   "metadata": {
    "colab": {
     "base_uri": "https://localhost:8080/"
    },
    "id": "OQVJZWacZgkW",
    "outputId": "df62e3b2-9fe7-4a50-ae14-2a75c58079fd"
   },
   "outputs": [
    {
     "name": "stdout",
     "output_type": "stream",
     "text": [
      "True\n"
     ]
    }
   ],
   "source": [
    "saldo_em_conta = 200\n",
    "valor_do_saque = 100\n",
    "\n",
    "pode_executar_saque = valor_do_saque <= saldo_em_conta\n",
    "print(pode_executar_saque)"
   ]
  },
  {
   "cell_type": "markdown",
   "metadata": {
    "id": "mdEzI0EhZu2v"
   },
   "source": [
    "## Cartão de crédito"
   ]
  },
  {
   "cell_type": "code",
   "execution_count": 30,
   "metadata": {
    "colab": {
     "base_uri": "https://localhost:8080/"
    },
    "id": "1F7bhw5NZwqY",
    "outputId": "ad48d27d-7d59-4fa4-f28d-7777e9573b1d"
   },
   "outputs": [
    {
     "name": "stdout",
     "output_type": "stream",
     "text": [
      "False\n"
     ]
    }
   ],
   "source": [
    "codigo_de_seguranca = '852'\n",
    "codigo_de_seguranca_cadastro = '010'\n",
    "\n",
    "pode_efetuar_pagamento = codigo_de_seguranca == codigo_de_seguranca_cadastro\n",
    "print(pode_efetuar_pagamento)"
   ]
  },
  {
   "cell_type": "code",
   "execution_count": null,
   "metadata": {},
   "outputs": [],
   "source": []
  },
  {
   "cell_type": "markdown",
   "metadata": {
    "id": "Epn8LvKOZ-r8"
   },
   "source": [
    "## As operações de variáveis booleanas são:\n",
    "## - **| (operador ou)**;\n",
    "## - **& (operador e)**;\n",
    "## - **not (operador não)**.\n",
    "\n",
    "## O conjunto de resultados de operações lógicas geralmente é resumido em uma tabela chamada \"**tabela da verdade**\":"
   ]
  },
  {
   "cell_type": "markdown",
   "metadata": {
    "id": "dMMjxC2taYtP"
   },
   "source": [
    "## Tabela da verdade do operador **| (operador ou)**;"
   ]
  },
  {
   "cell_type": "code",
   "execution_count": 31,
   "metadata": {
    "colab": {
     "base_uri": "https://localhost:8080/"
    },
    "id": "LmUKYq6Eab89",
    "outputId": "d0888b95-10a6-4b0e-9876-30daa1344ca3"
   },
   "outputs": [
    {
     "name": "stdout",
     "output_type": "stream",
     "text": [
      "True\n",
      "True\n",
      "False\n",
      "True\n"
     ]
    }
   ],
   "source": [
    "print(True | True)\n",
    "print(True | False)\n",
    "print(False | False)\n",
    "print(False | True)"
   ]
  },
  {
   "cell_type": "markdown",
   "metadata": {
    "id": "FgEzrfEzalMF"
   },
   "source": [
    "## Tabela da verdade do operador **& (operador e)**;"
   ]
  },
  {
   "cell_type": "code",
   "execution_count": 32,
   "metadata": {
    "colab": {
     "base_uri": "https://localhost:8080/"
    },
    "id": "wW3AAxFIan-v",
    "outputId": "4d6d9430-8ec7-4cc2-aea5-05a6c5d99412"
   },
   "outputs": [
    {
     "name": "stdout",
     "output_type": "stream",
     "text": [
      "True\n",
      "False\n",
      "False\n",
      "False\n"
     ]
    }
   ],
   "source": [
    "print(True & True)\n",
    "print(True & False)\n",
    "print(False & False)\n",
    "print(False & True)"
   ]
  },
  {
   "cell_type": "markdown",
   "metadata": {
    "id": "sv1fxL8favLe"
   },
   "source": [
    "## Tabela da verdade do operador **not (operador não)**;"
   ]
  },
  {
   "cell_type": "code",
   "execution_count": 33,
   "metadata": {
    "colab": {
     "base_uri": "https://localhost:8080/"
    },
    "id": "khDuOI-kaxAR",
    "outputId": "1fd46dc1-38ee-4a05-d54d-9189915404ce"
   },
   "outputs": [
    {
     "name": "stdout",
     "output_type": "stream",
     "text": [
      "False\n",
      "True\n"
     ]
    }
   ],
   "source": [
    "print(not True)\n",
    "print(not False)"
   ]
  },
  {
   "cell_type": "markdown",
   "metadata": {
    "id": "i2Bpc2WBa5Br"
   },
   "source": [
    "## Podemos converter tipos numéricos e **strings** para **booleanos** através do método nativo **bool**"
   ]
  },
  {
   "cell_type": "code",
   "execution_count": 34,
   "metadata": {
    "colab": {
     "base_uri": "https://localhost:8080/"
    },
    "id": "9_GhlM7qa8Cj",
    "outputId": "58ddb7c4-070d-425b-807f-59d4c4c218d9"
   },
   "outputs": [
    {
     "name": "stdout",
     "output_type": "stream",
     "text": [
      "True\n",
      "True\n",
      "False\n",
      "False\n",
      "False\n"
     ]
    }
   ],
   "source": [
    "idade = 19\n",
    "tipo_sangue = 'O-'\n",
    "filhos = 0\n",
    "telefone_fixo = None\n",
    "telefone_fixo = ''\n",
    "\n",
    "print(bool(idade))\n",
    "print(bool(tipo_sangue))\n",
    "print(bool(filhos))\n",
    "print(bool(telefone_fixo))\n",
    "print(bool(telefone_fixo))"
   ]
  },
  {
   "cell_type": "markdown",
   "metadata": {
    "id": "KhK5yyEYbR01"
   },
   "source": [
    "## Compara se os dados fornecidos pelo usuário são iguais aos dados do cadastro:"
   ]
  },
  {
   "cell_type": "code",
   "execution_count": 35,
   "metadata": {
    "colab": {
     "base_uri": "https://localhost:8080/"
    },
    "id": "iZKNrSsIbTnx",
    "outputId": "b54efc28-a33b-41e2-8a50-9d9e54e29108"
   },
   "outputs": [
    {
     "name": "stdout",
     "output_type": "stream",
     "text": [
      "True\n",
      "False\n"
     ]
    }
   ],
   "source": [
    "usuario_igual = usuario == usuario_cadastro\n",
    "senha_igual = senha == senha_cadastro\n",
    "\n",
    "print(usuario_igual)\n",
    "print(senha_igual)"
   ]
  },
  {
   "cell_type": "markdown",
   "metadata": {
    "id": "F61dyRfwbelW"
   },
   "source": [
    "## Decide se concede o acesso:"
   ]
  },
  {
   "cell_type": "code",
   "execution_count": 36,
   "metadata": {
    "colab": {
     "base_uri": "https://localhost:8080/"
    },
    "id": "xiQJN3PrbhYF",
    "outputId": "e7e59686-d5a0-44c8-da1a-4da90606b370"
   },
   "outputs": [
    {
     "name": "stdout",
     "output_type": "stream",
     "text": [
      "False\n"
     ]
    }
   ],
   "source": [
    "conceder_acesso = usuario_igual & senha_igual\n",
    "print(conceder_acesso)"
   ]
  },
  {
   "cell_type": "code",
   "execution_count": null,
   "metadata": {},
   "outputs": [],
   "source": []
  },
  {
   "cell_type": "markdown",
   "metadata": {
    "id": "k_6Yb8V5b_sM"
   },
   "source": [
    "# **Variáveis:**"
   ]
  },
  {
   "cell_type": "markdown",
   "metadata": {
    "id": "GBFIUNFScOEs"
   },
   "source": [
    "## **Atribuição:**\n",
    "## **-** Comando que atribui um valor a uma variável.\n",
    "\n",
    "## **Comando:**\n",
    "## **-** Trecho de código que representa uma instrução ou ação. Até agora, os comandos vistos foram de atribuição e exibição.\n",
    "\n",
    "## **Comando de atribuição:**\n",
    "## **-** Um comando que atribui um valor a um nome (variável). À esquerda do operador de atribuição, =, fica o nome. À direita do símbolo de atribuição, fica a expressão que é calculada pelo interpretador Python e é atribuída ao nome.\n",
    "\n",
    "## **Comentário:**\n",
    "## **-** Informação em um programa dirigida a outros programadores e que não tem efeito na execução do programa.\n",
    "\n",
    "## **Compisição:**\n",
    "## **-** Habilidade de combinar expressões e comandos simples em expressões e comandos compostos, de forma a representar operações complexas de forma concisa.\n",
    "\n",
    "## **Float:**\n",
    "## **-** Formato para representar números que possuem partes fracionárias.\n",
    "\n",
    "## **Nome de uma Variável:**\n",
    "## **-** Nome dado a uma variável. Em Python nomes de variáveis são uma sequência de letras e dígitos que começa com uma letra.\n",
    "\n",
    "## **None:**\n",
    "## **-** Valores none são utilizados para descrever variáveis que foram criadas, mas que não possuem nenhum valor associado à elas.\n",
    "\n",
    "## **Print:**\n",
    "## **-** Função usada em um programa ou script que faz com que o interpretador Python mostre um valor no seu dispositivo de saída (por exemplo, a tela do computador).\n",
    "\n",
    "## **Programa:**\n",
    "## **-** Uma sequência de instruções que especificam as ações e cálculos a serem realizados por um computador.\n",
    "\n",
    "## **Pront:**\n",
    "## **-** Símbolo “>>>” usado pelo terminal Python quando está pronto para receber um comando.\n",
    "\n",
    "## **Prompt string:**\n",
    "## **-** Texto apresentado ao usuário indicando o tipo valor que se espera que seja digitado e de entrada ao programa.\n",
    "\n",
    "## **Símbolo de atribuição:**\n",
    "## **-** = é o símbolo de atribuição usado por Python e não deve ser confundido com o operador matemático de comparação que usa o mesmo símbolo.\n",
    "\n",
    "## **Type:**\n",
    "## **-** Um conjunto de valores. O tipo de um valor determina como ele pode ser usado em expressões. Até agora, os tipos vistos são: inteiros (tipo int), números em ponto-flutuante (tipo float) e strings (tipo string).\n",
    "\n",
    "## **Valor:**\n",
    "## **-** Um número ou string (ou outra coisa que ainda vamos conhecer) que pode ser atribuída a uma variável ou computada em uma expressão.\n",
    "\n",
    "## **Variável:**\n",
    "## **-** Nome que se refere a um valor."
   ]
  },
  {
   "cell_type": "code",
   "execution_count": null,
   "metadata": {},
   "outputs": [],
   "source": []
  },
  {
   "cell_type": "markdown",
   "metadata": {
    "id": "WcWWVsmsBnnc"
   },
   "source": [
    "# **Números:**"
   ]
  },
  {
   "cell_type": "markdown",
   "metadata": {
    "id": "sQWR-OO_cGjm"
   },
   "source": [
    "## **Algoritmo:**\n",
    "## **-** Um processo passo-a-passo para a solução de um problema.\n",
    "\n",
    "## **Avaliar:**\n",
    "## **-** Simplificar uma expressão realizando as operações em ordem para obter um valor simples.\n",
    "\n",
    "## **Booleano:**\n",
    "## **-** Tipo de dado primitivo que possui dois valores, que podem ser considerados como 0 ou 1, falso ou verdadeiro.\n",
    "\n",
    "## **Divisão inteira:**\n",
    "## **-** Operação que divide um inteiro por outro e resulta em um inteiro. A divisão inteira resulta no número de vezes que o numerador é divisível pelo denominador e descarta qualquer resto.\n",
    "\n",
    "## **Expressão:**\n",
    "## **-** Combinação de variáveis, operadores e valores, que representa um resultado único.\n",
    "\n",
    "## **Operando:**\n",
    "## **-** Um dos valores sobre o qual o operador opera.\n",
    "\n",
    "## **Operador:**\n",
    "## **-** Símbolo especial que representa uma computação simples, como adição, multiplicação ou concatenação de strings.\n",
    "\n",
    "## **Operador módulo:**\n",
    "## **-** Chamado também de operador resto ou operado resto da divisão. Fornece o resto da divisão depois de uma divisão inteira.\n",
    "\n",
    "## **Regras de precedência:**\n",
    "## **-** O conjunto de regras que governa a ordem em que expressões envolvendo múltiplos operadores e operandos são avaliadas.\n",
    "\n",
    "## **Executável:**\n",
    "## **-** Outro nome para o código-objeto que está pronto para ser executado.\n",
    "\n",
    "## **Expressão:**\n",
    "## **-** Uma combinação de operadores e operandos (variáveis e valores) que tem valor simples como resultado. Expressão são avaliadas para dar o resultado.\n",
    "\n",
    "## **Função para conversão de tipo:**\n",
    "## **-** Uma função que pode converter um valor de um tipo para outro.\n",
    "\n",
    "## **Incremento/incrementar:**\n",
    "## **-** Substantivo e verbo, incrementar significa adicionar 1 a uma variável.\n",
    "\n",
    "## **Inicialização (de uma variável):**\n",
    "## **-** Inicializar uma variável é dar a ela um valor inicial. como em Python variáveis não existem até que elas recebam algum valor, elas são inicializadas quando são criadas.\n",
    "\n",
    "## **Int:**\n",
    "## **-** Um tipo de dado do Python que contém números inteiros positivos e negativos.\n",
    "\n",
    "## **Interpretar:**\n",
    "## **-** Executar um programa em uma linguagem de alto nível, traduzindo apenas uma linha de cada vez.\n",
    "\n",
    "## **Memória RAM:**\n",
    "## **-** Responsável pelo armazenamento de informações necessárias para a execução de aplicativos em uso e para o funcionamento do próprio sistema operacional.\n",
    "\n",
    "## **Verboso:**\n",
    "## **-** Código verboso é aquele que precisa de mais palavras, ou palavras mais longas, do que o necessário para expressar adequadamente a intenção do código. Em códigos verbosos existem muitos símbolos ou símbolos muito longos."
   ]
  },
  {
   "cell_type": "code",
   "execution_count": null,
   "metadata": {},
   "outputs": [],
   "source": []
  },
  {
   "cell_type": "markdown",
   "metadata": {
    "id": "yY8JPxMvBwwq"
   },
   "source": [
    "# **Strings:**"
   ]
  },
  {
   "cell_type": "markdown",
   "metadata": {
    "id": "Aey-J05iB4sN"
   },
   "source": [
    "## **Concatenar:**\n",
    "## **-** Juntar dois operandos lado a lado.\n",
    "\n",
    "## **Fatiamento:**\n",
    "## **-** Uma parte de uma string especificada por um intervalo de índices.\n",
    "\n",
    "## **Lista indexada:**\n",
    "## **-** Lista é uma coleção de valores indexada, em que cada valor é identificado por um índice. O primeiro item na lista está no índice 0, o segundo no índice 1 e assim por diante.\n",
    "\n",
    "## **Str:**\n",
    "## **-** Tipo de dado do Python que armazena um string de caracteres.\n",
    "\n",
    "## **Substring:**\n",
    "## **-** Uma sequência de caracteres dentro de uma string."
   ]
  },
  {
   "cell_type": "code",
   "execution_count": null,
   "metadata": {},
   "outputs": [],
   "source": []
  },
  {
   "cell_type": "markdown",
   "metadata": {
    "id": "DZLPhQmtCk8w"
   },
   "source": [
    "# **Booleanos**"
   ]
  },
  {
   "cell_type": "markdown",
   "metadata": {
    "id": "WQYBGsE2CroK"
   },
   "source": [
    "## **Condição:**\n",
    "## **-** A expressão booleana que determina qual bloco será executado num comando condicional.\n",
    "\n",
    "## **Expressão booleana:**\n",
    "## **-** Uma expressão que é verdadeira ou falsa.\n",
    "\n",
    "## **Palavra-chave:**\n",
    "## **-** Palavra reservada usada pelo compilador/interpretador para analisar o programa; você não pode usar palavras-chave como if, def, e while como nomes de variáveis.\n",
    "\n",
    "## **Operador de comparação:**\n",
    "## **-** Um dos operadores que compara dois valores: ==, !=, >, <, >=, e <=.\n",
    "\n",
    "## **Operador lógico:**\n",
    "## **-** Um dos operadores que combina expressões booleanas: and, or, e not."
   ]
  },
  {
   "cell_type": "code",
   "execution_count": null,
   "metadata": {},
   "outputs": [],
   "source": []
  }
 ],
 "metadata": {
  "colab": {
   "provenance": []
  },
  "kernelspec": {
   "display_name": "Python 3 (ipykernel)",
   "language": "python",
   "name": "python3"
  },
  "language_info": {
   "codemirror_mode": {
    "name": "ipython",
    "version": 3
   },
   "file_extension": ".py",
   "mimetype": "text/x-python",
   "name": "python",
   "nbconvert_exporter": "python",
   "pygments_lexer": "ipython3",
   "version": "3.9.19"
  }
 },
 "nbformat": 4,
 "nbformat_minor": 4
}
