{
 "cells": [
  {
   "cell_type": "markdown",
   "metadata": {
    "id": "cQqE7leLgvhj"
   },
   "source": [
    "## **O aplicativo do seu banco registra toda a sua movimentação financeira. Ao final do dia, o app consolida o saldo final para que você possa controlar sua vida financeira.**"
   ]
  },
  {
   "cell_type": "code",
   "execution_count": 1,
   "metadata": {
    "id": "d_mP4Jzxg0xP"
   },
   "outputs": [],
   "source": [
    "dia_11_saldo_inicial = 1000"
   ]
  },
  {
   "cell_type": "code",
   "execution_count": 2,
   "metadata": {
    "id": "OaSgcXcIg8Vy"
   },
   "outputs": [],
   "source": [
    "dia_11_transacao_1 = 243\n",
    "dia_11_transacao_2 = -798.58\n",
    "dia_11_transacao_3 = 427.12\n",
    "dia_11_transacao_4 = -10.91"
   ]
  },
  {
   "cell_type": "code",
   "execution_count": 8,
   "metadata": {
    "id": "aOefTZiPhATx"
   },
   "outputs": [],
   "source": [
    "dia_11_saldo_final = dia_11_saldo_inicial + \\\n",
    "dia_11_transacao_1 + \\\n",
    "dia_11_transacao_2 + \\\n",
    "dia_11_transacao_3 + \\\n",
    "dia_11_transacao_4"
   ]
  },
  {
   "cell_type": "code",
   "execution_count": 9,
   "metadata": {
    "colab": {
     "base_uri": "https://localhost:8080/"
    },
    "id": "4J215RTNhw33",
    "outputId": "b4cca8fd-0449-4762-9ee4-1c92d710aca7"
   },
   "outputs": [
    {
     "name": "stdout",
     "output_type": "stream",
     "text": [
      "860.63\n"
     ]
    }
   ],
   "source": [
    "print(dia_11_saldo_final)"
   ]
  },
  {
   "cell_type": "code",
   "execution_count": null,
   "metadata": {},
   "outputs": [],
   "source": []
  },
  {
   "cell_type": "markdown",
   "metadata": {
    "id": "F_zTHQB3h574"
   },
   "source": [
    "## Armazenam sequências mutáveis e ordenadas de valores. São do tipo **list**:"
   ]
  },
  {
   "cell_type": "code",
   "execution_count": 10,
   "metadata": {
    "colab": {
     "base_uri": "https://localhost:8080/"
    },
    "id": "GewWFKonh9Pm",
    "outputId": "36b49d87-734d-4bf5-86ca-668a2c86730f"
   },
   "outputs": [
    {
     "name": "stdout",
     "output_type": "stream",
     "text": [
      "['André Perez', 'andre.perez', 'andre123', 'andre.perez@gmail.com']\n",
      "<class 'list'>\n"
     ]
    }
   ],
   "source": [
    "usuario_web = [\n",
    "    'André Perez',\n",
    "    'andre.perez',\n",
    "    'andre123',\n",
    "    'andre.perez@gmail.com'\n",
    "]\n",
    "\n",
    "print(usuario_web)\n",
    "print(type(usuario_web))"
   ]
  },
  {
   "cell_type": "code",
   "execution_count": 12,
   "metadata": {
    "colab": {
     "base_uri": "https://localhost:8080/"
    },
    "id": "X6iC0cURiY-v",
    "outputId": "de00a57f-3df4-44ad-c4c4-3f4c02bc7486"
   },
   "outputs": [
    {
     "name": "stdout",
     "output_type": "stream",
     "text": [
      "['André Perez', 20, 'andre.perez', 'andre123', 'andre.perez@gmail.com', 723.15, True]\n",
      "<class 'list'>\n"
     ]
    }
   ],
   "source": [
    "idade = 20\n",
    "saldo_em_conta = 723.15\n",
    "usuario_loggedin = True\n",
    "\n",
    "usuario_web = [\n",
    "    'André Perez',\n",
    "    idade,\n",
    "    'andre.perez',\n",
    "    'andre123',\n",
    "    'andre.perez@gmail.com',\n",
    "    saldo_em_conta,\n",
    "    usuario_loggedin\n",
    "]\n",
    "\n",
    "print(usuario_web)\n",
    "print(type(usuario_web))"
   ]
  },
  {
   "cell_type": "code",
   "execution_count": null,
   "metadata": {},
   "outputs": [],
   "source": []
  },
  {
   "cell_type": "markdown",
   "metadata": {
    "id": "S2lZp8VJi0bR"
   },
   "source": [
    "# **Operações**\n",
    "## As operações da estrutura do tipo list são: + (concatenação)."
   ]
  },
  {
   "cell_type": "code",
   "execution_count": 13,
   "metadata": {
    "colab": {
     "base_uri": "https://localhost:8080/"
    },
    "id": "UMxnWfKCi-rl",
    "outputId": "fa961c4c-f934-439b-b39c-67213c34f9ca"
   },
   "outputs": [
    {
     "name": "stdout",
     "output_type": "stream",
     "text": [
      "['xiaomi', 'huawei']\n",
      "['apple', 'motorola']\n",
      "['xiaomi', 'huawei', 'apple', 'motorola']\n"
     ]
    }
   ],
   "source": [
    "fabricantes_mobile_china = ['xiaomi', 'huawei']\n",
    "fabricantes_mobile_eua = ['apple', 'motorola']\n",
    "fabricantes_mobile = fabricantes_mobile_china + fabricantes_mobile_eua\n",
    "\n",
    "print(fabricantes_mobile_china)\n",
    "print(fabricantes_mobile_eua)\n",
    "print(fabricantes_mobile)"
   ]
  },
  {
   "cell_type": "markdown",
   "metadata": {
    "id": "8E2gfMsIjTA3"
   },
   "source": [
    "## A operação muito utilizada é a de fatiamento (slicing), semelhante ao de **strings: Fatiamento fixo:**"
   ]
  },
  {
   "cell_type": "code",
   "execution_count": 14,
   "metadata": {
    "colab": {
     "base_uri": "https://localhost:8080/"
    },
    "id": "YYeZDQt1jYmx",
    "outputId": "42eb7b44-c7c3-4571-e740-56e30bb3779e"
   },
   "outputs": [
    {
     "name": "stdout",
     "output_type": "stream",
     "text": [
      "0: xiaomi\n",
      "-1:  huawei\n"
     ]
    }
   ],
   "source": [
    "print(f'0: {fabricantes_mobile[0]}')\n",
    "print(f'-1:  {fabricantes_mobile[1]}')"
   ]
  },
  {
   "cell_type": "markdown",
   "metadata": {
    "id": "GlFdQBnljwVU"
   },
   "source": [
    "## **Fatiamento por intervalo:**"
   ]
  },
  {
   "cell_type": "code",
   "execution_count": 15,
   "metadata": {
    "colab": {
     "base_uri": "https://localhost:8080/"
    },
    "id": "H80PCslTjyjl",
    "outputId": "9715198d-cb95-4abb-a2ac-eec91f9fba06"
   },
   "outputs": [
    {
     "name": "stdout",
     "output_type": "stream",
     "text": [
      "china: ['xiaomi', 'huawei']\n",
      "eua: ['apple', 'motorola']\n"
     ]
    }
   ],
   "source": [
    "fabricantes_mobile_china = fabricantes_mobile[0:2]\n",
    "fabricantes_mobile_eua = fabricantes_mobile[2:len(fabricantes_mobile)]\n",
    "\n",
    "print('china: ' + str(fabricantes_mobile_china))\n",
    "print('eua: ' + str(fabricantes_mobile_eua))"
   ]
  },
  {
   "cell_type": "markdown",
   "metadata": {
    "id": "WQ_fzQyrkA8D"
   },
   "source": [
    "## **Podemos adicionar elementos a uma posição específica da lista:**"
   ]
  },
  {
   "cell_type": "code",
   "execution_count": 16,
   "metadata": {
    "colab": {
     "base_uri": "https://localhost:8080/"
    },
    "id": "RVAV_AZvkETs",
    "outputId": "7db9d830-2b8e-44d2-d7ed-3c8cbc6b65b6"
   },
   "outputs": [
    {
     "name": "stdout",
     "output_type": "stream",
     "text": [
      "['xiaomi', 'huawei', 'apple', 'motorola']\n"
     ]
    }
   ],
   "source": [
    "print(fabricantes_mobile)"
   ]
  },
  {
   "cell_type": "code",
   "execution_count": 17,
   "metadata": {
    "colab": {
     "base_uri": "https://localhost:8080/"
    },
    "id": "BEpovQTukKTB",
    "outputId": "882017bc-d997-47ad-b7fc-f7fffd19af2a"
   },
   "outputs": [
    {
     "name": "stdout",
     "output_type": "stream",
     "text": [
      "['xiaomi', 'huawei', 'nokia', 'motorola']\n"
     ]
    }
   ],
   "source": [
    "fabricantes_mobile[2] = 'nokia'\n",
    "print(fabricantes_mobile)"
   ]
  },
  {
   "cell_type": "code",
   "execution_count": null,
   "metadata": {},
   "outputs": [],
   "source": []
  },
  {
   "cell_type": "markdown",
   "metadata": {
    "id": "qlErzSJmkQL6"
   },
   "source": [
    "## **Métodos**\n",
    "## São métodos nativos do Python que nos ajudam a trabalhar no dia a dia com listas."
   ]
  },
  {
   "cell_type": "code",
   "execution_count": 18,
   "metadata": {
    "colab": {
     "base_uri": "https://localhost:8080/"
    },
    "id": "rJEVf8SnkV-7",
    "outputId": "47c5c9bf-38e5-4551-b066-71edd6de27b8"
   },
   "outputs": [
    {
     "name": "stdout",
     "output_type": "stream",
     "text": [
      "[0.05, 0.07, 0.02, 0.04, 0.08]\n"
     ]
    }
   ],
   "source": [
    "juros = [0.05, 0.07, 0.02, 0.04, 0.08]\n",
    "print(juros)"
   ]
  },
  {
   "cell_type": "code",
   "execution_count": 20,
   "metadata": {
    "colab": {
     "base_uri": "https://localhost:8080/"
    },
    "id": "4giE3mOQkaLi",
    "outputId": "eaa6c238-7988-4f84-c3e4-e34b86655e1b"
   },
   "outputs": [
    {
     "name": "stdout",
     "output_type": "stream",
     "text": [
      "[0.1, 0.05, 0.07, 0.02, 0.04, 0.08]\n"
     ]
    }
   ],
   "source": [
    "# inserir um elemento sem substituir: list.insert(index, val)\n",
    "juros.insert(0, 0.10)\n",
    "print(juros)"
   ]
  },
  {
   "cell_type": "code",
   "execution_count": 21,
   "metadata": {
    "colab": {
     "base_uri": "https://localhost:8080/"
    },
    "id": "V9Q3OZ7HkoqV",
    "outputId": "414dba1b-32b0-4e9b-f402-9a21bf0ce7f6"
   },
   "outputs": [
    {
     "name": "stdout",
     "output_type": "stream",
     "text": [
      "[0.1, 0.05, 0.07, 0.02, 0.04, 0.08, 0.09]\n"
     ]
    }
   ],
   "source": [
    "# inserir um elemento no fim da lista: list.append(val)\n",
    "juros.append(0.09)\n",
    "print(juros)"
   ]
  },
  {
   "cell_type": "code",
   "execution_count": 22,
   "metadata": {
    "colab": {
     "base_uri": "https://localhost:8080/"
    },
    "id": "9e-kt1Ddkuoc",
    "outputId": "600c1bf6-3906-4bd0-98da-6576b2c256de"
   },
   "outputs": [
    {
     "name": "stdout",
     "output_type": "stream",
     "text": [
      "[0.05, 0.07, 0.02, 0.04, 0.08, 0.09]\n"
     ]
    }
   ],
   "source": [
    "# remover um elemento pelo valor: list.remove(val)\n",
    "juros.remove(0.1)\n",
    "print(juros)"
   ]
  },
  {
   "cell_type": "code",
   "execution_count": 23,
   "metadata": {
    "colab": {
     "base_uri": "https://localhost:8080/"
    },
    "id": "OpWMzKtEkyRB",
    "outputId": "ef32bc92-a1c6-4bad-f487-b65d28468734"
   },
   "outputs": [
    {
     "name": "stdout",
     "output_type": "stream",
     "text": [
      "0.02\n"
     ]
    }
   ],
   "source": [
    "# remover um elemento pelo índice: list.pop(val)\n",
    "terceiro_juros = juros.pop(2)\n",
    "print(terceiro_juros)"
   ]
  },
  {
   "cell_type": "code",
   "execution_count": 24,
   "metadata": {
    "colab": {
     "base_uri": "https://localhost:8080/"
    },
    "id": "5izWIInrk4i9",
    "outputId": "1cc98e96-f8f4-46e6-9e2b-cd4192706640"
   },
   "outputs": [
    {
     "name": "stdout",
     "output_type": "stream",
     "text": [
      "[0.05, 0.07, 0.04, 0.08, 0.09]\n"
     ]
    }
   ],
   "source": [
    "print(juros)"
   ]
  },
  {
   "cell_type": "code",
   "execution_count": null,
   "metadata": {},
   "outputs": [],
   "source": []
  },
  {
   "cell_type": "markdown",
   "metadata": {
    "id": "Alm1X3_tk8rd"
   },
   "source": [
    "## **Conversão**\n",
    "## Podemos converter alguns tipos de variáveis em listas, como **strings.**"
   ]
  },
  {
   "cell_type": "code",
   "execution_count": 25,
   "metadata": {
    "colab": {
     "base_uri": "https://localhost:8080/"
    },
    "id": "3uV5tulIk_3u",
    "outputId": "c99ea7aa-30e7-4ce7-9638-994898a00af8"
   },
   "outputs": [
    {
     "name": "stdout",
     "output_type": "stream",
     "text": [
      "andre.perez@gmail.com\n",
      "['a', 'n', 'd', 'r', 'e', '.', 'p', 'e', 'r', 'e', 'z', '@', 'g', 'm', 'a', 'i', 'l', '.', 'c', 'o', 'm']\n"
     ]
    }
   ],
   "source": [
    "email = 'andre.perez@gmail.com'\n",
    "caracteres_email = list(email)\n",
    "\n",
    "print(email)\n",
    "print(caracteres_email)"
   ]
  },
  {
   "cell_type": "code",
   "execution_count": 26,
   "metadata": {
    "id": "E21V3XOilNZg"
   },
   "outputs": [],
   "source": [
    "dia_11_saldo_inicial = 1000"
   ]
  },
  {
   "cell_type": "code",
   "execution_count": 27,
   "metadata": {
    "colab": {
     "base_uri": "https://localhost:8080/"
    },
    "id": "hOGALu-BlOfI",
    "outputId": "15dacf0a-ae18-44e2-ab9b-34a1044897fd"
   },
   "outputs": [
    {
     "name": "stdout",
     "output_type": "stream",
     "text": [
      "[243, -798.58, 427.12, -10.91]\n"
     ]
    }
   ],
   "source": [
    "dia_11_transacoes = []\n",
    "\n",
    "dia_11_transacoes.append(243)\n",
    "dia_11_transacoes.append(-798.58)\n",
    "dia_11_transacoes.append(427.12)\n",
    "dia_11_transacoes.append(-10.91)\n",
    "\n",
    "print(dia_11_transacoes)"
   ]
  },
  {
   "cell_type": "code",
   "execution_count": 34,
   "metadata": {
    "colab": {
     "base_uri": "https://localhost:8080/"
    },
    "id": "IGhcS_bsla_G",
    "outputId": "e8ad34f0-8b2e-411e-b0f2-5ccb786c6b80"
   },
   "outputs": [
    {
     "name": "stdout",
     "output_type": "stream",
     "text": [
      "860.63\n"
     ]
    }
   ],
   "source": [
    "dia_11_saldo_final = dia_11_saldo_inicial + \\\n",
    "dia_11_transacoes[0] + \\\n",
    "dia_11_transacoes[1] + \\\n",
    "dia_11_transacoes[2] + \\\n",
    "dia_11_transacoes[3]\n",
    "print(dia_11_saldo_final)"
   ]
  },
  {
   "cell_type": "code",
   "execution_count": null,
   "metadata": {},
   "outputs": [],
   "source": []
  },
  {
   "cell_type": "markdown",
   "metadata": {
    "id": "B_N92YGBmD9O"
   },
   "source": [
    "## Você trabalha como analista de dados de mídias sociais e precisa descobrir todas as hashtags que alcançaram o top trending do Twitter durante uma semana. Você já conseguiu as hashtags por dia da semana:"
   ]
  },
  {
   "cell_type": "code",
   "execution_count": 35,
   "metadata": {
    "id": "M0_GTiJOmFyY"
   },
   "outputs": [],
   "source": [
    "hashtags_seg = ['#tiago', '#joao', '#bbb']\n",
    "hashtags_ter = ['#sarah', '#bbb', '#fiuk']\n",
    "hashtags_qua = ['#gil', '#thelma', '#lourdes']\n",
    "hashtags_qui = ['#rafa', '#fora', '#danilo']\n",
    "hashtags_sex = ['#juliete', '#arthur', '#bbb']"
   ]
  },
  {
   "cell_type": "markdown",
   "metadata": {
    "id": "SDZFRXZkmO5H"
   },
   "source": [
    "## Uma simples **concatenação de listas** fará com que a hashtag #bbb, entre outras, apareça mais de uma vez."
   ]
  },
  {
   "cell_type": "code",
   "execution_count": 56,
   "metadata": {
    "colab": {
     "base_uri": "https://localhost:8080/"
    },
    "id": "whE1sP69mTNO",
    "outputId": "07581ae1-5d7a-4e97-aecf-cb536cc19abb"
   },
   "outputs": [
    {
     "name": "stdout",
     "output_type": "stream",
     "text": [
      "['#tiago', '#joao', '#bbb', '#sarah', '#bbb', '#fiuk', '#gil', '#thelma', '#lourdes', '#rafa', '#fora', '#danilo', '#juliete', '#arthur', '#bbb']\n"
     ]
    }
   ],
   "source": [
    "hashtags_semana = hashtags_seg + \\\n",
    "hashtags_ter + \\\n",
    "hashtags_qua + \\\n",
    "hashtags_qui + \\\n",
    "hashtags_sex\n",
    "\n",
    "print(hashtags_semana)"
   ]
  },
  {
   "cell_type": "code",
   "execution_count": null,
   "metadata": {},
   "outputs": [],
   "source": []
  },
  {
   "cell_type": "markdown",
   "metadata": {
    "id": "OsF_ST17n11d"
   },
   "source": [
    "## Armazenam sequências imutáveis e desordenados valores, sem repetição. São do tipo **set**:"
   ]
  },
  {
   "cell_type": "code",
   "execution_count": 57,
   "metadata": {
    "colab": {
     "base_uri": "https://localhost:8080/"
    },
    "id": "PQ2HZogBn6qJ",
    "outputId": "249a406c-15d1-42c2-8d5e-d87d633dac58"
   },
   "outputs": [
    {
     "name": "stdout",
     "output_type": "stream",
     "text": [
      "{'banana', 'maca', 'uva'}\n",
      "<class 'set'>\n"
     ]
    }
   ],
   "source": [
    "frutas = {'banana', 'maca', 'uva', 'uva'}\n",
    "\n",
    "print(frutas)\n",
    "print(type(frutas))"
   ]
  },
  {
   "cell_type": "code",
   "execution_count": null,
   "metadata": {},
   "outputs": [],
   "source": []
  },
  {
   "cell_type": "markdown",
   "metadata": {
    "id": "jEwjqZdzoEOs"
   },
   "source": [
    "## As operações da estrutura do tipo **set** são:**- (diferença)**"
   ]
  },
  {
   "cell_type": "code",
   "execution_count": 58,
   "metadata": {
    "id": "QVdNyZZFoH0D"
   },
   "outputs": [],
   "source": [
    "norte_europa = {'reino unido', 'suecia', 'russia', 'noruega', 'dinamarca'}\n",
    "escandinavia = {'noruega', 'dinamarca', 'suecia'}"
   ]
  },
  {
   "cell_type": "code",
   "execution_count": 59,
   "metadata": {
    "colab": {
     "base_uri": "https://localhost:8080/"
    },
    "id": "wms7xOLgoQaN",
    "outputId": "0cfb54f5-09a9-45a7-9aa3-e9ead6247040"
   },
   "outputs": [
    {
     "name": "stdout",
     "output_type": "stream",
     "text": [
      "{'reino unido', 'russia'}\n"
     ]
    }
   ],
   "source": [
    "norte_europa_nao_escandivano = norte_europa - escandinavia\n",
    "print(norte_europa_nao_escandivano)"
   ]
  },
  {
   "cell_type": "code",
   "execution_count": 60,
   "metadata": {
    "colab": {
     "base_uri": "https://localhost:8080/"
    },
    "id": "g143vFFMoTnW",
    "outputId": "913029d1-7a52-48b3-a433-0d2288c6ceb5"
   },
   "outputs": [
    {
     "name": "stdout",
     "output_type": "stream",
     "text": [
      "set()\n"
     ]
    }
   ],
   "source": [
    "escandivano_nao_norte_europa = escandinavia - norte_europa\n",
    "print(escandivano_nao_norte_europa)"
   ]
  },
  {
   "cell_type": "markdown",
   "metadata": {
    "id": "yqcUzumaoYa7"
   },
   "source": [
    "## São métodos nativos do Python que nos ajudam a trabalhar no dia a dia com conjuntos."
   ]
  },
  {
   "cell_type": "code",
   "execution_count": 61,
   "metadata": {
    "colab": {
     "base_uri": "https://localhost:8080/"
    },
    "id": "9uAcVFGxobPw",
    "outputId": "68bda602-1d58-4097-ee14-9fd77885985d"
   },
   "outputs": [
    {
     "name": "stdout",
     "output_type": "stream",
     "text": [
      "{'Biológicas', 'Exatas', 'Humanas'}\n"
     ]
    }
   ],
   "source": [
    "cursos = {'Exatas', 'Humanas', 'Biológicas'}\n",
    "print(cursos)"
   ]
  },
  {
   "cell_type": "code",
   "execution_count": 62,
   "metadata": {
    "colab": {
     "base_uri": "https://localhost:8080/"
    },
    "id": "1WuTtBY9oequ",
    "outputId": "a313ab4d-8503-471b-eb77-91099a6156a2"
   },
   "outputs": [
    {
     "name": "stdout",
     "output_type": "stream",
     "text": [
      "{'Biológicas', 'Exatas', 'Humanas', 'Saúde'}\n"
     ]
    }
   ],
   "source": [
    "# inserir um elemento no conjunto: set.add(val)\n",
    "cursos.add('Saúde')\n",
    "print(cursos)"
   ]
  },
  {
   "cell_type": "code",
   "execution_count": 63,
   "metadata": {
    "colab": {
     "base_uri": "https://localhost:8080/"
    },
    "id": "geAYAEvJoh5m",
    "outputId": "291f7a42-0116-4002-a6f4-739006e4c731"
   },
   "outputs": [
    {
     "name": "stdout",
     "output_type": "stream",
     "text": [
      "{'Biológicas', 'Exatas', 'Humanas'}\n"
     ]
    }
   ],
   "source": [
    "# remover um elemento no conjunto: set.remove(val)\n",
    "cursos.remove('Saúde')\n",
    "print(cursos)"
   ]
  },
  {
   "cell_type": "code",
   "execution_count": null,
   "metadata": {},
   "outputs": [],
   "source": []
  },
  {
   "cell_type": "markdown",
   "metadata": {
    "id": "Ue4uoSGUoo3b"
   },
   "source": [
    "## Podemos converter conjuntos para lista e vice e versa."
   ]
  },
  {
   "cell_type": "code",
   "execution_count": 64,
   "metadata": {
    "colab": {
     "base_uri": "https://localhost:8080/"
    },
    "id": "J0AhfxwtoqON",
    "outputId": "0a52f760-4b6a-4179-88f1-db47fc5292e2"
   },
   "outputs": [
    {
     "name": "stdout",
     "output_type": "stream",
     "text": [
      "{'Santos', 'Palmeiras', 'Corinthians', 'São Paulo'}\n",
      "<class 'set'>\n"
     ]
    }
   ],
   "source": [
    "times_paulistas = {'São Paulo', 'Palmeiras', 'Corinthians', 'Santos'}\n",
    "\n",
    "print(times_paulistas)\n",
    "print(type(times_paulistas))"
   ]
  },
  {
   "cell_type": "code",
   "execution_count": 65,
   "metadata": {
    "colab": {
     "base_uri": "https://localhost:8080/"
    },
    "id": "Y82CVhILovSF",
    "outputId": "9aa338eb-5873-43fd-f1fc-690090038962"
   },
   "outputs": [
    {
     "name": "stdout",
     "output_type": "stream",
     "text": [
      "['Santos', 'Palmeiras', 'Corinthians', 'São Paulo']\n",
      "<class 'list'>\n"
     ]
    }
   ],
   "source": [
    "print(list(times_paulistas))\n",
    "print(type(list(times_paulistas)))"
   ]
  },
  {
   "cell_type": "code",
   "execution_count": 66,
   "metadata": {
    "colab": {
     "base_uri": "https://localhost:8080/"
    },
    "id": "b-zKeasRo0db",
    "outputId": "dceb4c13-6c5f-461f-b12e-5a960ffac1e2"
   },
   "outputs": [
    {
     "name": "stdout",
     "output_type": "stream",
     "text": [
      "['#tiago', '#joao', '#bbb', '#sarah', '#bbb', '#fiuk', '#gil', '#thelma', '#lourdes', '#rafa', '#fora', '#danilo', '#juliete', '#arthur', '#bbb']\n",
      "15\n"
     ]
    }
   ],
   "source": [
    "print(hashtags_semana)\n",
    "print(len(hashtags_semana))"
   ]
  },
  {
   "cell_type": "code",
   "execution_count": 77,
   "metadata": {
    "colab": {
     "base_uri": "https://localhost:8080/"
    },
    "id": "3v6dRrXep6eb",
    "outputId": "792681b9-7950-4087-abf3-44bd2bc84079"
   },
   "outputs": [
    {
     "name": "stdout",
     "output_type": "stream",
     "text": [
      "['#bbb', '#lourdes', '#sarah', '#fiuk', '#rafa', '#fora', '#arthur', '#juliete', '#tiago', '#danilo', '#gil', '#thelma', '#joao']\n",
      "13\n"
     ]
    }
   ],
   "source": [
    "hashtags_semana = list( set( hashtags_seg +  hashtags_ter +  hashtags_qua +  hashtags_qui +  hashtags_sex ) )\n",
    "print(hashtags_semana)\n",
    "print(len(hashtags_semana))"
   ]
  },
  {
   "cell_type": "code",
   "execution_count": null,
   "metadata": {},
   "outputs": [],
   "source": []
  },
  {
   "cell_type": "markdown",
   "metadata": {
    "id": "SbTFtEOWqnTB"
   },
   "source": [
    "## Para se conectar a uma rede wi-fi, você precisa de duas informações: o nome da rede e a senha de acesso. Quando você vai acessar uma nova rede, você encontra uma lista de redes disponíveis:"
   ]
  },
  {
   "cell_type": "code",
   "execution_count": 78,
   "metadata": {
    "colab": {
     "base_uri": "https://localhost:8080/"
    },
    "id": "JpNyeRrTqoWJ",
    "outputId": "bd2ef6f2-407c-42ea-d0ae-921c21702c01"
   },
   "outputs": [
    {
     "name": "stdout",
     "output_type": "stream",
     "text": [
      "['rede1', 'cnx_cnx', 'uai-fi', 'r3d3']\n"
     ]
    }
   ],
   "source": [
    "wifi_disponiveis = ['rede1', 'cnx_cnx', 'uai-fi', 'r3d3']\n",
    "print(wifi_disponiveis)"
   ]
  },
  {
   "cell_type": "markdown",
   "metadata": {
    "id": "or9uKadaqv3j"
   },
   "source": [
    "## Armazenam sequências no formato chave-valor. São do tipo **dict** :"
   ]
  },
  {
   "cell_type": "code",
   "execution_count": 79,
   "metadata": {
    "colab": {
     "base_uri": "https://localhost:8080/"
    },
    "id": "XSd6wFA_qyIj",
    "outputId": "fee208bc-b075-4726-9289-cd1c7bc03579"
   },
   "outputs": [
    {
     "name": "stdout",
     "output_type": "stream",
     "text": [
      "{'capital': 'Brasília', 'idioma': 'Português', 'populacao': 210}\n",
      "<class 'dict'>\n"
     ]
    }
   ],
   "source": [
    "brasil = {'capital': 'Brasília', 'idioma': 'Português', 'populacao': 210}\n",
    "print(brasil)\n",
    "print(type(brasil))"
   ]
  },
  {
   "cell_type": "markdown",
   "metadata": {
    "id": "7USFMiVNq7SG"
   },
   "source": [
    "## Não é permitido chaves duplicadas."
   ]
  },
  {
   "cell_type": "code",
   "execution_count": 80,
   "metadata": {
    "colab": {
     "base_uri": "https://localhost:8080/"
    },
    "id": "RP4RJeFoq60d",
    "outputId": "70566128-5f17-41ca-ae67-6566a354ba42"
   },
   "outputs": [
    {
     "name": "stdout",
     "output_type": "stream",
     "text": [
      "{'marca': 'Volkswagen', 'modelo': 'Polo', 'ano': 2004}\n"
     ]
    }
   ],
   "source": [
    "carro = { 'marca': 'Volkswagen', 'modelo': 'Polo', 'ano': 2021, 'ano': 2004 }\n",
    "print(carro)"
   ]
  },
  {
   "cell_type": "markdown",
   "metadata": {
    "id": "TnjGaJtnrCBn"
   },
   "source": [
    "## Pode criar dicionários compostos:"
   ]
  },
  {
   "cell_type": "code",
   "execution_count": 83,
   "metadata": {
    "colab": {
     "base_uri": "https://localhost:8080/"
    },
    "id": "v4aKlslSrDXr",
    "outputId": "7c0e312e-222a-478b-fca6-0d6a3e1e0eb8"
   },
   "outputs": [
    {
     "name": "stdout",
     "output_type": "stream",
     "text": [
      "{'andre': {'nome': 'Andre Perez', 'ano_nascimento': 1992, 'pais': {'pai': {'nome': '<nome-do-pai> Perez', 'ano_nascimento': 1971}, 'mae': {'nome': '<nome-da-mae> Perez', 'ano_nascimento': 1973}}}}\n"
     ]
    }
   ],
   "source": [
    "cadastro = {\n",
    "    'andre': {\n",
    "        'nome': 'Andre Perez',\n",
    "        'ano_nascimento': 1992,\n",
    "        'pais': {\n",
    "            'pai': {\n",
    "                'nome': '<nome-do-pai> Perez',\n",
    "                'ano_nascimento': 1971\n",
    "                },\n",
    "            'mae': {\n",
    "                'nome': '<nome-da-mae> Perez',\n",
    "                'ano_nascimento': 1973\n",
    "                },\n",
    "            }\n",
    "        }\n",
    "    }\n",
    "\n",
    "print(cadastro)"
   ]
  },
  {
   "cell_type": "code",
   "execution_count": 84,
   "metadata": {
    "colab": {
     "base_uri": "https://localhost:8080/"
    },
    "id": "0CpV7_hCr6AW",
    "outputId": "9ced33b5-ade2-4f2b-a350-038ce7ab5b34"
   },
   "outputs": [
    {
     "data": {
      "text/plain": [
       "1973"
      ]
     },
     "execution_count": 84,
     "metadata": {},
     "output_type": "execute_result"
    }
   ],
   "source": [
    "cadastro['andre']['pais']['mae']['ano_nascimento']"
   ]
  },
  {
   "cell_type": "code",
   "execution_count": null,
   "metadata": {},
   "outputs": [],
   "source": []
  },
  {
   "cell_type": "markdown",
   "metadata": {
    "id": "qDxRfNyHr9Jd"
   },
   "source": [
    "## **Operações:**"
   ]
  },
  {
   "cell_type": "code",
   "execution_count": 85,
   "metadata": {
    "id": "FL23UUAWr-nc"
   },
   "outputs": [],
   "source": [
    "credito = {'123': 750, '789': 980}"
   ]
  },
  {
   "cell_type": "markdown",
   "metadata": {
    "id": "i6kZQIiysDKc"
   },
   "source": [
    "## Elementos são acessados pela sua chave."
   ]
  },
  {
   "cell_type": "code",
   "execution_count": 86,
   "metadata": {
    "colab": {
     "base_uri": "https://localhost:8080/"
    },
    "id": "RaAwrzh1sEox",
    "outputId": "2dbd8b0a-def0-459c-c876-6d2accf366b9"
   },
   "outputs": [
    {
     "name": "stdout",
     "output_type": "stream",
     "text": [
      "750\n",
      "980\n"
     ]
    }
   ],
   "source": [
    "score_123 = credito['123']\n",
    "score_789 = credito['789']\n",
    "\n",
    "print(score_123)\n",
    "print(score_789)"
   ]
  },
  {
   "cell_type": "markdown",
   "metadata": {
    "id": "LvTUKsQ8sLJo"
   },
   "source": [
    "## Elementos são atualizados pela sua chave."
   ]
  },
  {
   "cell_type": "code",
   "execution_count": 87,
   "metadata": {
    "colab": {
     "base_uri": "https://localhost:8080/"
    },
    "id": "ULa9zVv0sMIl",
    "outputId": "8760651a-d4b3-46b0-b73a-63ee2f7426b9"
   },
   "outputs": [
    {
     "name": "stdout",
     "output_type": "stream",
     "text": [
      "{'123': 435, '789': 980}\n"
     ]
    }
   ],
   "source": [
    "credito['123'] = 435\n",
    "print(credito)"
   ]
  },
  {
   "cell_type": "markdown",
   "metadata": {
    "id": "4b8tEOLssSMw"
   },
   "source": [
    "## Para adicionar um novo elemento, basta criar um novo elemento chave-valor:"
   ]
  },
  {
   "cell_type": "code",
   "execution_count": 88,
   "metadata": {
    "colab": {
     "base_uri": "https://localhost:8080/"
    },
    "id": "nXF6uD3ysTpw",
    "outputId": "a0628e75-613d-4026-face-d94d33e22c22"
   },
   "outputs": [
    {
     "name": "stdout",
     "output_type": "stream",
     "text": [
      "{'123': 435, '789': 980, '456': 1000}\n"
     ]
    }
   ],
   "source": [
    "credito['456'] = 1000\n",
    "print(credito)"
   ]
  },
  {
   "cell_type": "code",
   "execution_count": null,
   "metadata": {},
   "outputs": [],
   "source": []
  },
  {
   "cell_type": "markdown",
   "metadata": {
    "id": "kbYQwaMDsZKS"
   },
   "source": [
    "## São métodos nativos do Python que nos ajudam a trabalhar no dia a dia com dicionários."
   ]
  },
  {
   "cell_type": "code",
   "execution_count": 89,
   "metadata": {
    "id": "_W9SZIoPsaa3"
   },
   "outputs": [],
   "source": [
    "artigo = dict(\n",
    "    titulo='Modulo 02 | Python: Estruturas de Dados',\n",
    "    corpo='Topicos, Aulas, Listas, Conjuntos, Dicionários, ...',\n",
    "    total_caracteres=1530\n",
    "    )"
   ]
  },
  {
   "cell_type": "code",
   "execution_count": 91,
   "metadata": {
    "colab": {
     "base_uri": "https://localhost:8080/"
    },
    "id": "U9F02Ql8sj59",
    "outputId": "174c3cb0-3815-43bc-b949-ee05d44713ee"
   },
   "outputs": [
    {
     "name": "stdout",
     "output_type": "stream",
     "text": [
      "{'titulo': 'Modulo 02 | Python: Estruturas de Dados', 'corpo': 'Topicos, Aulas, Listas, Conjuntos, Dicionários, ...', 'total_caracteres': 1530}\n",
      "{'titulo': 'Modulo 02 | Python: Estruturas de Dados', 'corpo': 'Topicos, Aulas, Listas, Conjuntos, Dicionários, ...', 'total_caracteres': 7850}\n"
     ]
    }
   ],
   "source": [
    "# adicionar/atualizar um elemento pelo chave-valor: dict.update(dict)\n",
    "print(artigo)\n",
    "artigo.update({'total_caracteres':  7850})\n",
    "print(artigo)\n",
    "\n",
    "artigo['total_caracteres'] = 7850"
   ]
  },
  {
   "cell_type": "code",
   "execution_count": 92,
   "metadata": {
    "colab": {
     "base_uri": "https://localhost:8080/"
    },
    "id": "hYU1fXRetINz",
    "outputId": "dcf3cfd3-795a-444c-f6f7-ea873eba11ea"
   },
   "outputs": [
    {
     "name": "stdout",
     "output_type": "stream",
     "text": [
      "{'titulo': 'Modulo 02 | Python: Estruturas de Dados', 'corpo': 'Topicos, Aulas, Listas, Conjuntos, Dicionários, ...', 'total_caracteres': 7850}\n",
      "{'titulo': 'Modulo 02 | Python: Estruturas de Dados', 'corpo': 'Topicos, Aulas, Listas, Conjuntos, Dicionários, ...'}\n"
     ]
    }
   ],
   "source": [
    "# remover um elemento pelo chave: dict.pop(key)\n",
    "print(artigo)\n",
    "total_caracteres = artigo.pop('total_caracteres')\n",
    "print(artigo)"
   ]
  },
  {
   "cell_type": "code",
   "execution_count": null,
   "metadata": {},
   "outputs": [],
   "source": []
  },
  {
   "cell_type": "markdown",
   "metadata": {
    "id": "kMXgwB1itW0S"
   },
   "source": [
    "## Podemos converter as chaves e os itens de um dicionário em uma lista."
   ]
  },
  {
   "cell_type": "code",
   "execution_count": 93,
   "metadata": {
    "id": "E0n0CodstX1f"
   },
   "outputs": [],
   "source": [
    "artigo = dict(\n",
    "     titulo='Modulo 02 | Python: Estruturas de Dados',\n",
    "     corpo='Topicos, Aulas, Listas, Conjuntos, Dicionários, ...',\n",
    "     total_caracteres=1530 )"
   ]
  },
  {
   "cell_type": "code",
   "execution_count": 94,
   "metadata": {
    "colab": {
     "base_uri": "https://localhost:8080/"
    },
    "id": "tedyMc_FtaMv",
    "outputId": "fa560797-b766-429d-dac3-030e7b411835"
   },
   "outputs": [
    {
     "name": "stdout",
     "output_type": "stream",
     "text": [
      "['titulo', 'corpo', 'total_caracteres']\n",
      "<class 'list'>\n"
     ]
    }
   ],
   "source": [
    "chaves = list(artigo.keys())\n",
    "\n",
    "print(chaves)\n",
    "print(type(chaves))"
   ]
  },
  {
   "cell_type": "code",
   "execution_count": 95,
   "metadata": {
    "colab": {
     "base_uri": "https://localhost:8080/"
    },
    "id": "53Sa1jz8tb1u",
    "outputId": "f258ec76-2dfc-425b-d519-f6499495fc5b"
   },
   "outputs": [
    {
     "name": "stdout",
     "output_type": "stream",
     "text": [
      "['Modulo 02 | Python: Estruturas de Dados', 'Topicos, Aulas, Listas, Conjuntos, Dicionários, ...', 1530]\n",
      "<class 'list'>\n"
     ]
    }
   ],
   "source": [
    "valores = list(artigo.values())\n",
    "\n",
    "print(valores)\n",
    "print(type(valores))"
   ]
  },
  {
   "cell_type": "code",
   "execution_count": 96,
   "metadata": {
    "id": "Rncs6EH8tu5w"
   },
   "outputs": [],
   "source": [
    "wifi_disponiveis = []"
   ]
  },
  {
   "cell_type": "code",
   "execution_count": 97,
   "metadata": {
    "id": "W6JUkBpHtwAq"
   },
   "outputs": [],
   "source": [
    "rede = {'nome': 'rede1', 'senha': 'cnx_cnx'}\n",
    "wifi_disponiveis.append(rede)"
   ]
  },
  {
   "cell_type": "code",
   "execution_count": 98,
   "metadata": {
    "id": "eL1AABYNtzaP"
   },
   "outputs": [],
   "source": [
    "rede = {'nome': 'uai-fi', 'senha': 'r3d3'}\n",
    "wifi_disponiveis.append(rede)"
   ]
  },
  {
   "cell_type": "code",
   "execution_count": 99,
   "metadata": {
    "colab": {
     "base_uri": "https://localhost:8080/"
    },
    "id": "vKNAxR8st2Ge",
    "outputId": "e490c83d-0e51-441a-e49d-d508d342eec7"
   },
   "outputs": [
    {
     "name": "stdout",
     "output_type": "stream",
     "text": [
      "[{'nome': 'rede1', 'senha': 'cnx_cnx'}, {'nome': 'uai-fi', 'senha': 'r3d3'}]\n"
     ]
    }
   ],
   "source": [
    "print(wifi_disponiveis)"
   ]
  },
  {
   "cell_type": "code",
   "execution_count": null,
   "metadata": {},
   "outputs": [],
   "source": []
  },
  {
   "cell_type": "markdown",
   "metadata": {
    "id": "jjY3CAUfwUwv"
   },
   "source": [
    "# **Estruture listas:**"
   ]
  },
  {
   "cell_type": "markdown",
   "metadata": {
    "id": "4OG3bPKPwdWy"
   },
   "source": [
    "## **Append:**\n",
    "## **-** Modo de acréscimo de informações ao final do arquivo. Não sobrescreve nenhuma informação.\n",
    "\n",
    "## **Elemento:**\n",
    "## **-** Um dos valores em uma lista(ou outra sequência). O operador colchete seleciona elementos de uma lista.\n",
    "\n",
    "## **Índice:**\n",
    "## **-** Uma variável inteira ou valor que indica um elemento de uma lista.\n",
    "\n",
    "## **Lista:**\n",
    "## **-** Uma coleção denominada de objetos, onde cada objeto é identificado por um índice.\n",
    "\n",
    "## **Mutável:**\n",
    "## **-** Um tipo de dado composto a cujos elementos podem ser atribuídos novos valores.\n",
    "\n",
    "## **Objeto:**\n",
    "## **-** Algo a que uma variável pode se referir.\n",
    "\n",
    "## **Pop:**\n",
    "## **-** Método de lista pop, que remove e retorna o último item na lista.\n",
    "\n",
    "## **Sequência:**\n",
    "## **-** Qualquer um dos tipos de dados que consiste de um conjunto ordenado de elementos, com cada elemento identificado por um índice."
   ]
  },
  {
   "cell_type": "code",
   "execution_count": null,
   "metadata": {},
   "outputs": [],
   "source": []
  },
  {
   "cell_type": "markdown",
   "metadata": {
    "id": "yLspCA3jyatt"
   },
   "source": [
    "# **Crie conjuntos:**"
   ]
  },
  {
   "cell_type": "markdown",
   "metadata": {
    "id": "UE3j1ahJzn1f"
   },
   "source": [
    "## **Codificar (encode):**\n",
    "## **-** Representar um conjunto de valores usando outro conjunto de valores, construindo um mapeamento entre eles.\n",
    "\n",
    "## **Conjunto (set):**\n",
    "## **-** É uma coleção não-ordenada de valores únicos, empregada para armazenar múltiplos itens em um objeto."
   ]
  },
  {
   "cell_type": "code",
   "execution_count": null,
   "metadata": {},
   "outputs": [],
   "source": []
  },
  {
   "cell_type": "markdown",
   "metadata": {
    "id": "4pyrX8kZ0E6E"
   },
   "source": [
    "# **Forme dicionários:**"
   ]
  },
  {
   "cell_type": "markdown",
   "metadata": {
    "id": "p59SNMm90PDi"
   },
   "source": [
    "## **Chave:**\n",
    "## **-** Um valor que é usado para buscar uma entrada em um dicionário.\n",
    "\n",
    "## **Dicionário:**\n",
    "## **-** Uma coleção de pares de chaves-valores que são mapeados pelas chaves, para se obter os valores. As chaves podem ser qualquer tipo de dados imutável, e os valores podem ser de qualquer tipo.\n",
    "\n",
    "## **Par chave-valor:**\n",
    "## **-** Um dos itens de um dicionário.\n",
    "\n",
    "## **Update:**\n",
    "## **-** o update()método atualiza o dicionário com os elementos de outro objeto de dicionário ou de um iterável de pares chave / valor."
   ]
  }
 ],
 "metadata": {
  "colab": {
   "provenance": []
  },
  "kernelspec": {
   "display_name": "Python 3 (ipykernel)",
   "language": "python",
   "name": "python3"
  },
  "language_info": {
   "codemirror_mode": {
    "name": "ipython",
    "version": 3
   },
   "file_extension": ".py",
   "mimetype": "text/x-python",
   "name": "python",
   "nbconvert_exporter": "python",
   "pygments_lexer": "ipython3",
   "version": "3.9.19"
  }
 },
 "nbformat": 4,
 "nbformat_minor": 4
}
